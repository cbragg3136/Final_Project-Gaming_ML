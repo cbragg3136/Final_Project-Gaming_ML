{
 "cells": [
  {
   "cell_type": "code",
   "execution_count": 1,
   "id": "nasty-pierre",
   "metadata": {},
   "outputs": [],
   "source": [
    "# approach is from this website: \n",
    "# https://www.pluralsight.com/guides/explore-python-libraries:-imbalanced-learn\n",
    "# BalancedRandomForestClassifier differs from SMOTE and ADASYN in that it is \n",
    "# not a resampling method, but rather a classifier in which the training employs \n",
    "# resampling internally. For more info, see Breinman et al., \n",
    "# Using Random Forest to Learn Imbalanced Data."
   ]
  },
  {
   "cell_type": "code",
   "execution_count": 2,
   "id": "desirable-asset",
   "metadata": {},
   "outputs": [],
   "source": [
    "# load necessary python libraries\n",
    "import numpy as np\n",
    "import pandas as pd\n",
    "import matplotlib.pyplot as plt\n",
    "import os"
   ]
  },
  {
   "cell_type": "code",
   "execution_count": 3,
   "id": "spread-loading",
   "metadata": {},
   "outputs": [],
   "source": [
    "# os.getcwd()"
   ]
  },
  {
   "cell_type": "code",
   "execution_count": 4,
   "id": "angry-incidence",
   "metadata": {
    "scrolled": true
   },
   "outputs": [],
   "source": [
    "# os.listdir(os.getcwd())"
   ]
  },
  {
   "cell_type": "code",
   "execution_count": 5,
   "id": "fleet-tournament",
   "metadata": {},
   "outputs": [
    {
     "data": {
      "text/plain": [
       "(39624, 351)"
      ]
     },
     "execution_count": 5,
     "metadata": {},
     "output_type": "execute_result"
    }
   ],
   "source": [
    "# read the csv x_data file into Pandas \n",
    "\n",
    "all_param_df = pd.read_csv(\"..\\\\reduced_data\\\\all_param.csv\")\n",
    "all_param_df.shape\n"
   ]
  },
  {
   "cell_type": "code",
   "execution_count": 6,
   "id": "standing-norman",
   "metadata": {},
   "outputs": [],
   "source": [
    "# using binary classification for logistic regression\n",
    "y_class = all_param_df['suc_class']"
   ]
  },
  {
   "cell_type": "code",
   "execution_count": 7,
   "id": "official-dream",
   "metadata": {},
   "outputs": [
    {
     "data": {
      "text/plain": [
       "0        0\n",
       "1        0\n",
       "2        0\n",
       "3        0\n",
       "4        0\n",
       "        ..\n",
       "39619    1\n",
       "39620    1\n",
       "39621    1\n",
       "39622    1\n",
       "39623    1\n",
       "Name: suc_class, Length: 39624, dtype: int64"
      ]
     },
     "execution_count": 7,
     "metadata": {},
     "output_type": "execute_result"
    }
   ],
   "source": [
    "y_class"
   ]
  },
  {
   "cell_type": "code",
   "execution_count": 79,
   "id": "administrative-aviation",
   "metadata": {},
   "outputs": [],
   "source": [
    "# create new X parameters df\n",
    "x_data = all_param_df.drop(['appid','maxccu','success_class','suc_class','followers','positive', 'negative', 'totaltags']  , axis=1)"
   ]
  },
  {
   "cell_type": "code",
   "execution_count": 80,
   "id": "forced-commonwealth",
   "metadata": {},
   "outputs": [
    {
     "data": {
      "text/plain": [
       "Index(['maxprice', 'maxdiscount', 'tagstrategy', 'tagaction', 'tagadventure',\n",
       "       'tagdesignillustration', 'tagutilities', 'tagfreetoplay', 'tagrpg',\n",
       "       'tagmassivelymultiplayer',\n",
       "       ...\n",
       "       'tagphilisophical', 'taggaming', 'tagfaith', 'tagmysterydungeon',\n",
       "       'tagfeaturefilm', 'tagsteammachine', 'tagclicker', 'taghardware',\n",
       "       'tag360video', 'tagvronly'],\n",
       "      dtype='object', length=343)"
      ]
     },
     "execution_count": 80,
     "metadata": {},
     "output_type": "execute_result"
    }
   ],
   "source": [
    "x_data.columns"
   ]
  },
  {
   "cell_type": "code",
   "execution_count": 81,
   "id": "handy-biography",
   "metadata": {
    "scrolled": true
   },
   "outputs": [
    {
     "data": {
      "text/plain": [
       "(39624, 343)"
      ]
     },
     "execution_count": 81,
     "metadata": {},
     "output_type": "execute_result"
    }
   ],
   "source": [
    "x_data.shape"
   ]
  },
  {
   "cell_type": "code",
   "execution_count": 82,
   "id": "psychological-toronto",
   "metadata": {},
   "outputs": [],
   "source": [
    "# Instantiate the classifier\n",
    "\n",
    "from imblearn.ensemble import BalancedRandomForestClassifier\n",
    "\n",
    "brf1 = BalancedRandomForestClassifier(n_estimators=100, random_state=0)"
   ]
  },
  {
   "cell_type": "code",
   "execution_count": 83,
   "id": "continent-asbestos",
   "metadata": {},
   "outputs": [],
   "source": [
    "# define training and test data\n",
    "from sklearn.model_selection import train_test_split\n",
    "X_train, X_test, y_train, y_test = train_test_split(x_data, y_class, test_size=0.2, random_state=5)"
   ]
  },
  {
   "cell_type": "code",
   "execution_count": null,
   "id": "massive-thomas",
   "metadata": {},
   "outputs": [],
   "source": []
  },
  {
   "cell_type": "code",
   "execution_count": 84,
   "id": "loose-florida",
   "metadata": {},
   "outputs": [],
   "source": [
    "# baseline example\n",
    "from sklearn.linear_model import LogisticRegression\n",
    "from sklearn.metrics import accuracy_score"
   ]
  },
  {
   "cell_type": "code",
   "execution_count": 85,
   "id": "outer-cholesterol",
   "metadata": {},
   "outputs": [],
   "source": [
    "# Pre-processing  - scale the data using the MinMaxScaler and perform some feature selection\n",
    "\n",
    "# from sklearn.preprocessing import MinMaxScaler\n",
    "# x_scaler = MinMaxScaler().fit(X_train)"
   ]
  },
  {
   "cell_type": "code",
   "execution_count": 86,
   "id": "retired-flesh",
   "metadata": {},
   "outputs": [],
   "source": [
    "# apply the trained scales (MinMax) to the training and testing data\n",
    "\n",
    "# X_train_scaled = x_scaler.transform(X_train)\n",
    "# X_test_scaled = x_scaler.transform(X_test)"
   ]
  },
  {
   "cell_type": "code",
   "execution_count": 87,
   "id": "stone-merchandise",
   "metadata": {},
   "outputs": [],
   "source": [
    "# Instantiate and Train model\n",
    "y = y_train\n",
    "X = X_train\n",
    "\n",
    "brf1.fit(X_train, y_train)\n",
    "y_pred = brf1.predict(X_test)"
   ]
  },
  {
   "cell_type": "code",
   "execution_count": 88,
   "id": "bacterial-pierce",
   "metadata": {},
   "outputs": [
    {
     "name": "stdout",
     "output_type": "stream",
     "text": [
      "Training Data Score: 0.8613836398624563\n",
      "Testing Data Score: 0.8528706624605679\n"
     ]
    }
   ],
   "source": [
    "# Apply fitted model to test data - what accuracy?\n",
    "print(f\"Training Data Score: {brf1.score(X_train, y_train)}\")\n",
    "print(f\"Testing Data Score: {brf1.score(X_test, y_test)}\")"
   ]
  },
  {
   "cell_type": "code",
   "execution_count": 89,
   "id": "ahead-carolina",
   "metadata": {},
   "outputs": [
    {
     "name": "stdout",
     "output_type": "stream",
     "text": [
      "              precision    recall  f1-score   support\n",
      "\n",
      "           0       1.00      0.85      0.92      7764\n",
      "           1       0.11      0.89      0.20       161\n",
      "\n",
      "    accuracy                           0.85      7925\n",
      "   macro avg       0.55      0.87      0.56      7925\n",
      "weighted avg       0.98      0.85      0.90      7925\n",
      "\n"
     ]
    }
   ],
   "source": [
    "# Understand precision, recall, f1 score with classification report for logistic classification\n",
    "from sklearn.metrics import classification_report\n",
    "predictions = brf1.predict(X_test)\n",
    "print(classification_report(y_test,predictions))"
   ]
  },
  {
   "cell_type": "code",
   "execution_count": 90,
   "id": "received-transformation",
   "metadata": {},
   "outputs": [],
   "source": [
    "# thinking about baseline results:\n",
    "# Support is not balanced - ~7700 of 1's and  160 0's\n",
    "# Percision: for no success: 100%, better for successful games: 20%\n",
    "# Percision= % of labeling an outcome that is correct from all the labels of that outcome\n",
    "# labeled cancer correctly from all labeled cancer\n",
    "# Recall: Fraction of positives found, 92% for 0, 93% for 1\n",
    "# Recall - % of true label found from all true cases of the label\n",
    "# how many of the cancer cases did you find\n",
    "# f1 score: 92% due to overfitting on failure cases"
   ]
  },
  {
   "cell_type": "code",
   "execution_count": 91,
   "id": "living-effects",
   "metadata": {},
   "outputs": [
    {
     "data": {
      "text/plain": [
       "<AxesSubplot:>"
      ]
     },
     "execution_count": 91,
     "metadata": {},
     "output_type": "execute_result"
    },
    {
     "data": {
      "image/png": "[encoded data removed]",
      "text/plain": [
       "<Figure size 432x288 with 2 Axes>"
      ]
     },
     "metadata": {
      "needs_background": "light"
     },
     "output_type": "display_data"
    }
   ],
   "source": [
    "from sklearn.metrics import confusion_matrix\n",
    "import seaborn as sns\n",
    "\n",
    "y_pred = brf1.predict(X_test)\n",
    "cm2 = confusion_matrix(y_test, y_pred.round())\n",
    "sns.heatmap(cm2, annot=True, fmt=\".0f\")"
   ]
  },
  {
   "cell_type": "code",
   "execution_count": 92,
   "id": "virtual-london",
   "metadata": {},
   "outputs": [
    {
     "data": {
      "text/plain": [
       "array([7.44418282e-02, 2.67132194e-02, 3.79028663e-02, 5.39589674e-02,\n",
       "       4.77202715e-02, 1.73949118e-04, 6.10166406e-04, 1.01973514e-02,\n",
       "       2.97523984e-02, 7.30238933e-03, 4.53808003e-02, 1.23566980e-02,\n",
       "       1.63907263e-02, 1.99554953e-02, 5.27597955e-03, 3.78118487e-03,\n",
       "       9.64378177e-05, 1.36494691e-04, 2.31605388e-04, 4.42601135e-04,\n",
       "       8.93836329e-04, 8.18158098e-05, 8.24840079e-07, 5.08190564e-04,\n",
       "       1.48031180e-03, 4.52387522e-03, 5.51647809e-04, 2.55312451e-03,\n",
       "       8.22889774e-04, 1.31746218e-03, 2.29078501e-03, 3.15422923e-04,\n",
       "       2.34727379e-04, 1.70561533e-04, 1.89121996e-03, 1.49898140e-03,\n",
       "       9.75080599e-03, 1.14303912e-02, 5.63586098e-03, 2.02031443e-04,\n",
       "       1.22511786e-03, 5.87647992e-03, 1.99876983e-03, 4.00435247e-04,\n",
       "       3.35336061e-04, 1.14457917e-03, 3.08634167e-05, 4.37800178e-03,\n",
       "       4.28010223e-03, 1.65481722e-03, 4.37478747e-04, 1.50613750e-04,\n",
       "       2.03545827e-04, 5.85554702e-03, 2.07744236e-02, 2.66239246e-03,\n",
       "       1.79924010e-04, 2.68595708e-03, 0.00000000e+00, 2.00286270e-02,\n",
       "       7.77653316e-03, 2.59798055e-03, 2.37595511e-03, 3.19346771e-03,\n",
       "       7.56029480e-04, 2.61914516e-04, 1.27501134e-03, 4.29513791e-04,\n",
       "       7.20883256e-04, 4.25404397e-03, 8.90599741e-04, 2.83771359e-03,\n",
       "       0.00000000e+00, 3.44551124e-04, 1.09191029e-03, 0.00000000e+00,\n",
       "       1.86464006e-04, 5.73690923e-04, 1.78839873e-03, 7.34544923e-03,\n",
       "       2.46920202e-03, 7.50288619e-05, 3.21536820e-04, 7.84461460e-04,\n",
       "       1.31447995e-03, 4.45469901e-03, 1.74125292e-02, 8.48705561e-04,\n",
       "       1.32371319e-03, 3.65596620e-03, 9.74378003e-03, 4.82048116e-03,\n",
       "       1.04366259e-03, 6.66625775e-05, 1.50963271e-03, 1.30166737e-03,\n",
       "       1.04591207e-02, 1.05676643e-03, 2.13607878e-03, 4.97384160e-03,\n",
       "       1.04599443e-03, 1.17361695e-02, 2.88615876e-03, 1.10351843e-02,\n",
       "       2.11726146e-04, 7.54202500e-02, 6.64518034e-03, 2.15734080e-03,\n",
       "       5.39625118e-03, 2.13856642e-04, 3.56660751e-04, 1.22373807e-03,\n",
       "       5.37408919e-03, 1.83278149e-03, 2.09853318e-03, 2.27006604e-03,\n",
       "       3.07389781e-03, 1.92306304e-04, 8.95662276e-03, 7.93593259e-04,\n",
       "       1.16833989e-04, 7.63333608e-04, 4.94436150e-04, 3.31654303e-03,\n",
       "       1.57581575e-03, 1.50497863e-03, 5.05474080e-04, 6.00613689e-03,\n",
       "       9.89606744e-05, 4.43565327e-04, 2.78960605e-04, 2.67665219e-04,\n",
       "       3.54579285e-04, 4.38197098e-04, 1.08639312e-02, 5.13463052e-04,\n",
       "       1.69944017e-03, 3.34558730e-03, 6.36788966e-02, 1.30323103e-04,\n",
       "       1.33286513e-03, 2.68332727e-04, 1.69771489e-03, 9.73597950e-04,\n",
       "       7.06299820e-04, 2.87832434e-04, 1.63721988e-03, 3.60638531e-03,\n",
       "       1.04254159e-03, 2.56126035e-03, 1.18741050e-03, 9.53861006e-04,\n",
       "       1.14047810e-03, 6.21981603e-03, 7.11278301e-04, 1.64794251e-04,\n",
       "       5.27516577e-04, 1.77479731e-03, 5.36711094e-04, 6.06085838e-04,\n",
       "       6.22139854e-04, 2.09057080e-04, 3.71178960e-04, 2.67469638e-04,\n",
       "       1.18087930e-03, 8.28391334e-04, 1.04155334e-03, 3.83922591e-03,\n",
       "       5.07729409e-04, 7.11015474e-04, 4.93528818e-05, 1.85415657e-03,\n",
       "       2.14981301e-03, 7.57193708e-04, 2.85222833e-03, 3.34431627e-04,\n",
       "       4.26032222e-04, 2.16550606e-05, 3.39406513e-03, 3.28705799e-04,\n",
       "       2.20211798e-04, 5.39610021e-04, 1.57653892e-04, 3.96972172e-04,\n",
       "       3.75277697e-04, 1.54336893e-03, 6.82972779e-04, 6.98638137e-04,\n",
       "       1.96600256e-04, 2.34219329e-04, 5.69625607e-04, 8.36423173e-04,\n",
       "       2.29514819e-04, 4.85023696e-04, 7.86140765e-05, 3.04642026e-04,\n",
       "       5.37240130e-04, 7.87114138e-04, 4.01887839e-04, 2.97313139e-04,\n",
       "       1.81546714e-04, 2.39077030e-03, 2.13304998e-04, 2.19372242e-04,\n",
       "       2.09635612e-04, 1.25966993e-04, 9.05323840e-04, 1.59751189e-04,\n",
       "       3.32949818e-04, 1.10671346e-04, 1.08802683e-03, 2.02487920e-03,\n",
       "       2.60211704e-03, 1.16905634e-03, 7.76290589e-04, 1.77363673e-04,\n",
       "       3.22045884e-04, 1.15713804e-03, 1.22711649e-03, 6.59832362e-04,\n",
       "       3.90069444e-04, 1.49924937e-04, 2.60777514e-04, 1.60868173e-03,\n",
       "       2.02655273e-03, 6.04407139e-04, 6.27995539e-04, 2.85937098e-04,\n",
       "       6.96186509e-05, 6.26904932e-04, 7.23941894e-04, 1.87464812e-04,\n",
       "       1.99147966e-04, 2.06611453e-04, 1.15086970e-03, 3.34867578e-05,\n",
       "       1.48150937e-04, 1.63235265e-03, 8.19200564e-04, 1.07952676e-04,\n",
       "       1.68544126e-03, 8.26419720e-04, 1.47680586e-04, 3.31351296e-04,\n",
       "       1.68410734e-03, 6.24603661e-05, 1.39371474e-03, 3.55773083e-04,\n",
       "       7.92230190e-05, 1.38095147e-04, 2.67743090e-03, 2.85470109e-04,\n",
       "       9.56932699e-04, 0.00000000e+00, 1.89208650e-03, 2.89885128e-03,\n",
       "       1.73390728e-04, 3.69835635e-04, 4.84577327e-04, 2.49734063e-03,\n",
       "       2.56949753e-04, 5.59060178e-05, 3.76794864e-04, 3.62506742e-04,\n",
       "       4.42077250e-04, 1.78930048e-04, 3.28557595e-04, 0.00000000e+00,\n",
       "       1.68556897e-03, 4.12360326e-06, 4.97849039e-04, 1.06745932e-03,\n",
       "       1.04232977e-03, 2.04710307e-04, 8.75537004e-05, 4.06701773e-04,\n",
       "       3.60745970e-04, 5.97239011e-05, 1.31425463e-04, 1.28503727e-04,\n",
       "       3.39238505e-03, 1.49986530e-04, 3.32696508e-04, 5.07211138e-04,\n",
       "       6.99218163e-04, 5.87724748e-04, 1.82600868e-04, 1.53717147e-04,\n",
       "       3.78602482e-04, 1.45108685e-03, 1.55889539e-04, 1.92474884e-03,\n",
       "       2.65299728e-04, 2.45039128e-04, 1.02465360e-04, 7.98788495e-04,\n",
       "       1.47931138e-04, 8.72108161e-04, 0.00000000e+00, 7.80867351e-04,\n",
       "       4.11359707e-04, 7.33007189e-05, 2.98307245e-04, 8.94598242e-05,\n",
       "       6.55050350e-04, 2.79965779e-05, 4.68956043e-04, 1.72065971e-04,\n",
       "       5.14388515e-04, 2.06726297e-05, 1.05035276e-04, 1.88710372e-06,\n",
       "       3.77662534e-04, 0.00000000e+00, 5.58438207e-04, 3.04346284e-05,\n",
       "       0.00000000e+00, 6.98542441e-04, 2.74511434e-03, 1.52415045e-04,\n",
       "       8.25208456e-07, 2.09311641e-05, 3.18419430e-04, 5.13274154e-04,\n",
       "       0.00000000e+00, 2.47529710e-04, 4.02984199e-04, 1.10165806e-04,\n",
       "       4.38964406e-05, 4.48910559e-05, 1.73236907e-05, 3.01898064e-05,\n",
       "       6.23461723e-05, 0.00000000e+00, 1.03948864e-04, 6.31032064e-05,\n",
       "       1.71218430e-04, 1.55272027e-05, 3.44361280e-05, 2.13651025e-03,\n",
       "       0.00000000e+00, 3.10137165e-05, 2.45345754e-04])"
      ]
     },
     "execution_count": 92,
     "metadata": {},
     "output_type": "execute_result"
    }
   ],
   "source": [
    "# Random Forests calculate feature importance\n",
    "importances = brf1.feature_importances_\n",
    "importances"
   ]
  },
  {
   "cell_type": "code",
   "execution_count": 93,
   "id": "beautiful-partnership",
   "metadata": {},
   "outputs": [],
   "source": [
    "# evaluate feature importance from X parameters\n",
    "features_df = pd.DataFrame(zip(x_data.columns, brf1.feature_importances_))\n",
    "# sort by feature importance \n",
    "features_df = features_df.sort_values(by=[1], ascending=False)\n",
    "# features_df\n",
    "\n"
   ]
  },
  {
   "cell_type": "code",
   "execution_count": 94,
   "id": "useful-inside",
   "metadata": {
    "scrolled": true
   },
   "outputs": [
    {
     "data": {
      "text/html": [
       "<div>\n",
       "<style scoped>\n",
       "    .dataframe tbody tr th:only-of-type {\n",
       "        vertical-align: middle;\n",
       "    }\n",
       "\n",
       "    .dataframe tbody tr th {\n",
       "        vertical-align: top;\n",
       "    }\n",
       "\n",
       "    .dataframe thead th {\n",
       "        text-align: right;\n",
       "    }\n",
       "</style>\n",
       "<table border=\"1\" class=\"dataframe\">\n",
       "  <thead>\n",
       "    <tr style=\"text-align: right;\">\n",
       "      <th></th>\n",
       "      <th>0</th>\n",
       "      <th>1</th>\n",
       "    </tr>\n",
       "  </thead>\n",
       "  <tbody>\n",
       "    <tr>\n",
       "      <th>105</th>\n",
       "      <td>tagmultiplayer</td>\n",
       "      <td>0.075420</td>\n",
       "    </tr>\n",
       "    <tr>\n",
       "      <th>0</th>\n",
       "      <td>maxprice</td>\n",
       "      <td>0.074442</td>\n",
       "    </tr>\n",
       "    <tr>\n",
       "      <th>138</th>\n",
       "      <td>tagsingleplayer</td>\n",
       "      <td>0.063679</td>\n",
       "    </tr>\n",
       "    <tr>\n",
       "      <th>3</th>\n",
       "      <td>tagaction</td>\n",
       "      <td>0.053959</td>\n",
       "    </tr>\n",
       "    <tr>\n",
       "      <th>4</th>\n",
       "      <td>tagadventure</td>\n",
       "      <td>0.047720</td>\n",
       "    </tr>\n",
       "    <tr>\n",
       "      <th>10</th>\n",
       "      <td>tagindie</td>\n",
       "      <td>0.045381</td>\n",
       "    </tr>\n",
       "    <tr>\n",
       "      <th>2</th>\n",
       "      <td>tagstrategy</td>\n",
       "      <td>0.037903</td>\n",
       "    </tr>\n",
       "    <tr>\n",
       "      <th>8</th>\n",
       "      <td>tagrpg</td>\n",
       "      <td>0.029752</td>\n",
       "    </tr>\n",
       "    <tr>\n",
       "      <th>1</th>\n",
       "      <td>maxdiscount</td>\n",
       "      <td>0.026713</td>\n",
       "    </tr>\n",
       "    <tr>\n",
       "      <th>54</th>\n",
       "      <td>tagcoop</td>\n",
       "      <td>0.020774</td>\n",
       "    </tr>\n",
       "    <tr>\n",
       "      <th>59</th>\n",
       "      <td>tagopenworld</td>\n",
       "      <td>0.020029</td>\n",
       "    </tr>\n",
       "    <tr>\n",
       "      <th>13</th>\n",
       "      <td>tagsimulation</td>\n",
       "      <td>0.019955</td>\n",
       "    </tr>\n",
       "    <tr>\n",
       "      <th>86</th>\n",
       "      <td>taggreatsoundtrack</td>\n",
       "      <td>0.017413</td>\n",
       "    </tr>\n",
       "    <tr>\n",
       "      <th>12</th>\n",
       "      <td>tagcasual</td>\n",
       "      <td>0.016391</td>\n",
       "    </tr>\n",
       "    <tr>\n",
       "      <th>11</th>\n",
       "      <td>tagearlyaccess</td>\n",
       "      <td>0.012357</td>\n",
       "    </tr>\n",
       "    <tr>\n",
       "      <th>101</th>\n",
       "      <td>tagfirstperson</td>\n",
       "      <td>0.011736</td>\n",
       "    </tr>\n",
       "    <tr>\n",
       "      <th>37</th>\n",
       "      <td>tagfps</td>\n",
       "      <td>0.011430</td>\n",
       "    </tr>\n",
       "    <tr>\n",
       "      <th>103</th>\n",
       "      <td>tagonlinecoop</td>\n",
       "      <td>0.011035</td>\n",
       "    </tr>\n",
       "    <tr>\n",
       "      <th>134</th>\n",
       "      <td>tagatmospheric</td>\n",
       "      <td>0.010864</td>\n",
       "    </tr>\n",
       "    <tr>\n",
       "      <th>96</th>\n",
       "      <td>tagsandbox</td>\n",
       "      <td>0.010459</td>\n",
       "    </tr>\n",
       "    <tr>\n",
       "      <th>7</th>\n",
       "      <td>tagfreetoplay</td>\n",
       "      <td>0.010197</td>\n",
       "    </tr>\n",
       "  </tbody>\n",
       "</table>\n",
       "</div>"
      ],
      "text/plain": [
       "                      0         1\n",
       "105      tagmultiplayer  0.075420\n",
       "0              maxprice  0.074442\n",
       "138     tagsingleplayer  0.063679\n",
       "3             tagaction  0.053959\n",
       "4          tagadventure  0.047720\n",
       "10             tagindie  0.045381\n",
       "2           tagstrategy  0.037903\n",
       "8                tagrpg  0.029752\n",
       "1           maxdiscount  0.026713\n",
       "54              tagcoop  0.020774\n",
       "59         tagopenworld  0.020029\n",
       "13        tagsimulation  0.019955\n",
       "86   taggreatsoundtrack  0.017413\n",
       "12            tagcasual  0.016391\n",
       "11       tagearlyaccess  0.012357\n",
       "101      tagfirstperson  0.011736\n",
       "37               tagfps  0.011430\n",
       "103       tagonlinecoop  0.011035\n",
       "134      tagatmospheric  0.010864\n",
       "96           tagsandbox  0.010459\n",
       "7         tagfreetoplay  0.010197"
      ]
     },
     "execution_count": 94,
     "metadata": {},
     "output_type": "execute_result"
    }
   ],
   "source": [
    "# drop all variables less than 0.02 feature importance\n",
    "x_filtered_df = features_df[features_df[1]>=0.01]\n",
    "x_filtered_df"
   ]
  },
  {
   "cell_type": "code",
   "execution_count": null,
   "id": "impressive-variation",
   "metadata": {},
   "outputs": [],
   "source": []
  }
 ],
 "metadata": {
  "kernelspec": {
   "display_name": "Python [conda env:pythondata] *",
   "language": "python",
   "name": "conda-env-pythondata-py"
  },
  "language_info": {
   "codemirror_mode": {
    "name": "ipython",
    "version": 3
   },
   "file_extension": ".py",
   "mimetype": "text/x-python",
   "name": "python",
   "nbconvert_exporter": "python",
   "pygments_lexer": "ipython3",
   "version": "3.6.10"
  }
 },
 "nbformat": 4,
 "nbformat_minor": 5
}
