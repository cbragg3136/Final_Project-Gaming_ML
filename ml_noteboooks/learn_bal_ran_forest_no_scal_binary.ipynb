{
 "cells": [
  {
   "cell_type": "code",
   "execution_count": 2,
   "id": "nasty-pierre",
   "metadata": {},
   "outputs": [],
   "source": [
    "# approach is from this website: \n",
    "# https://www.pluralsight.com/guides/explore-python-libraries:-imbalanced-learn\n",
    "# BalancedRandomForestClassifier differs from SMOTE and ADASYN in that it is \n",
    "# not a resampling method, but rather a classifier in which the training employs \n",
    "# resampling internally. For more info, see Breinman et al., \n",
    "# Using Random Forest to Learn Imbalanced Data."
   ]
  },
  {
   "cell_type": "code",
   "execution_count": 3,
   "id": "desirable-asset",
   "metadata": {},
   "outputs": [],
   "source": [
    "# load necessary python libraries\n",
    "import numpy as np\n",
    "import pandas as pd\n",
    "import matplotlib.pyplot as plt\n",
    "import os"
   ]
  },
  {
   "cell_type": "code",
   "execution_count": 4,
   "id": "spread-loading",
   "metadata": {},
   "outputs": [],
   "source": [
    "# os.getcwd()"
   ]
  },
  {
   "cell_type": "code",
   "execution_count": 5,
   "id": "angry-incidence",
   "metadata": {
    "scrolled": true
   },
   "outputs": [],
   "source": [
    "# os.listdir(os.getcwd())"
   ]
  },
  {
   "cell_type": "code",
   "execution_count": 6,
   "id": "fleet-tournament",
   "metadata": {},
   "outputs": [
    {
     "data": {
      "text/plain": [
       "(39624, 351)"
      ]
     },
     "execution_count": 6,
     "metadata": {},
     "output_type": "execute_result"
    }
   ],
   "source": [
    "# read the csv x_data file into Pandas \n",
    "\n",
    "all_param_df = pd.read_csv(\"..\\\\reduced_data\\\\all_param_binary_tags.csv\")\n",
    "all_param_df.shape\n"
   ]
  },
  {
   "cell_type": "code",
   "execution_count": 7,
   "id": "standing-norman",
   "metadata": {},
   "outputs": [],
   "source": [
    "# using binary classification for logistic regression\n",
    "y_class = all_param_df['suc_class']"
   ]
  },
  {
   "cell_type": "code",
   "execution_count": 8,
   "id": "official-dream",
   "metadata": {},
   "outputs": [
    {
     "data": {
      "text/plain": [
       "0        0\n",
       "1        0\n",
       "2        0\n",
       "3        0\n",
       "4        0\n",
       "        ..\n",
       "39619    1\n",
       "39620    1\n",
       "39621    1\n",
       "39622    1\n",
       "39623    1\n",
       "Name: suc_class, Length: 39624, dtype: int64"
      ]
     },
     "execution_count": 8,
     "metadata": {},
     "output_type": "execute_result"
    }
   ],
   "source": [
    "y_class"
   ]
  },
  {
   "cell_type": "code",
   "execution_count": 9,
   "id": "administrative-aviation",
   "metadata": {},
   "outputs": [],
   "source": [
    "# create new X parameters df\n",
    "x_data = all_param_df.drop(['appid','maxccu','success_class','suc_class','followers','positive', 'negative', 'totaltags']  , axis=1)"
   ]
  },
  {
   "cell_type": "code",
   "execution_count": 10,
   "id": "forced-commonwealth",
   "metadata": {},
   "outputs": [
    {
     "data": {
      "text/plain": [
       "Index(['maxprice', 'maxdiscount', 'tagstrategy', 'tagaction', 'tagadventure',\n",
       "       'tagdesignillustration', 'tagutilities', 'tagfreetoplay', 'tagrpg',\n",
       "       'tagmassivelymultiplayer',\n",
       "       ...\n",
       "       'tagphilisophical', 'taggaming', 'tagfaith', 'tagmysterydungeon',\n",
       "       'tagfeaturefilm', 'tagsteammachine', 'tagclicker', 'taghardware',\n",
       "       'tag360video', 'tagvronly'],\n",
       "      dtype='object', length=343)"
      ]
     },
     "execution_count": 10,
     "metadata": {},
     "output_type": "execute_result"
    }
   ],
   "source": [
    "x_data.columns"
   ]
  },
  {
   "cell_type": "code",
   "execution_count": 11,
   "id": "handy-biography",
   "metadata": {
    "scrolled": true
   },
   "outputs": [
    {
     "data": {
      "text/plain": [
       "(39624, 343)"
      ]
     },
     "execution_count": 11,
     "metadata": {},
     "output_type": "execute_result"
    }
   ],
   "source": [
    "x_data.shape"
   ]
  },
  {
   "cell_type": "code",
   "execution_count": 12,
   "id": "psychological-toronto",
   "metadata": {},
   "outputs": [],
   "source": [
    "# Instantiate the classifier\n",
    "\n",
    "from imblearn.ensemble import BalancedRandomForestClassifier\n",
    "\n",
    "brf1 = BalancedRandomForestClassifier(n_estimators=100, random_state=0)"
   ]
  },
  {
   "cell_type": "code",
   "execution_count": 13,
   "id": "continent-asbestos",
   "metadata": {},
   "outputs": [],
   "source": [
    "# define training and test data\n",
    "from sklearn.model_selection import train_test_split\n",
    "X_train, X_test, y_train, y_test = train_test_split(x_data, y_class, test_size=0.2, random_state=5)"
   ]
  },
  {
   "cell_type": "code",
   "execution_count": null,
   "id": "massive-thomas",
   "metadata": {},
   "outputs": [],
   "source": []
  },
  {
   "cell_type": "code",
   "execution_count": 14,
   "id": "loose-florida",
   "metadata": {},
   "outputs": [],
   "source": [
    "# baseline example\n",
    "from sklearn.linear_model import LogisticRegression\n",
    "from sklearn.metrics import accuracy_score"
   ]
  },
  {
   "cell_type": "code",
   "execution_count": 15,
   "id": "outer-cholesterol",
   "metadata": {},
   "outputs": [],
   "source": [
    "# Pre-processing  - scale the data using the MinMaxScaler and perform some feature selection\n",
    "\n",
    "# from sklearn.preprocessing import MinMaxScaler\n",
    "# x_scaler = MinMaxScaler().fit(X_train)"
   ]
  },
  {
   "cell_type": "code",
   "execution_count": 16,
   "id": "retired-flesh",
   "metadata": {},
   "outputs": [],
   "source": [
    "# apply the trained scales (MinMax) to the training and testing data\n",
    "\n",
    "# X_train_scaled = x_scaler.transform(X_train)\n",
    "# X_test_scaled = x_scaler.transform(X_test)"
   ]
  },
  {
   "cell_type": "code",
   "execution_count": 17,
   "id": "stone-merchandise",
   "metadata": {},
   "outputs": [],
   "source": [
    "# Instantiate and Train model\n",
    "y = y_train\n",
    "X = X_train\n",
    "\n",
    "brf1.fit(X_train, y_train)\n",
    "y_pred = brf1.predict(X_test)"
   ]
  },
  {
   "cell_type": "code",
   "execution_count": 18,
   "id": "bacterial-pierce",
   "metadata": {},
   "outputs": [
    {
     "name": "stdout",
     "output_type": "stream",
     "text": [
      "Training Data Score: 0.8710053944919398\n",
      "Testing Data Score: 0.8619558359621451\n"
     ]
    }
   ],
   "source": [
    "# Apply fitted model to test data - what accuracy?\n",
    "print(f\"Training Data Score: {brf1.score(X_train, y_train)}\")\n",
    "print(f\"Testing Data Score: {brf1.score(X_test, y_test)}\")"
   ]
  },
  {
   "cell_type": "code",
   "execution_count": 19,
   "id": "ahead-carolina",
   "metadata": {},
   "outputs": [
    {
     "name": "stdout",
     "output_type": "stream",
     "text": [
      "              precision    recall  f1-score   support\n",
      "\n",
      "           0       1.00      0.86      0.92      7764\n",
      "           1       0.11      0.82      0.19       161\n",
      "\n",
      "    accuracy                           0.86      7925\n",
      "   macro avg       0.55      0.84      0.56      7925\n",
      "weighted avg       0.98      0.86      0.91      7925\n",
      "\n"
     ]
    }
   ],
   "source": [
    "# Understand precision, recall, f1 score with classification report for logistic classification\n",
    "from sklearn.metrics import classification_report\n",
    "predictions = brf1.predict(X_test)\n",
    "print(classification_report(y_test,predictions))"
   ]
  },
  {
   "cell_type": "code",
   "execution_count": 20,
   "id": "received-transformation",
   "metadata": {},
   "outputs": [],
   "source": [
    "# thinking about baseline results:\n",
    "# Support is not balanced - ~7700 of 1's and  160 0's\n",
    "# Percision: for no success: 100%, better for successful games: 20%\n",
    "# Percision= % of labeling an outcome that is correct from all the labels of that outcome\n",
    "# labeled cancer correctly from all labeled cancer\n",
    "# Recall: Fraction of positives found, 92% for 0, 93% for 1\n",
    "# Recall - % of true label found from all true cases of the label\n",
    "# how many of the cancer cases did you find\n",
    "# f1 score: 92% due to overfitting on failure cases"
   ]
  },
  {
   "cell_type": "code",
   "execution_count": 21,
   "id": "living-effects",
   "metadata": {},
   "outputs": [
    {
     "data": {
      "text/plain": [
       "<AxesSubplot:>"
      ]
     },
     "execution_count": 21,
     "metadata": {},
     "output_type": "execute_result"
    },
    {
     "data": {
      "image/png": "[encoded data removed]",
      "text/plain": [
       "<Figure size 432x288 with 2 Axes>"
      ]
     },
     "metadata": {
      "needs_background": "light"
     },
     "output_type": "display_data"
    }
   ],
   "source": [
    "from sklearn.metrics import confusion_matrix\n",
    "import seaborn as sns\n",
    "\n",
    "y_pred = brf1.predict(X_test)\n",
    "cm2 = confusion_matrix(y_test, y_pred.round())\n",
    "sns.heatmap(cm2, annot=True, fmt=\".0f\")"
   ]
  },
  {
   "cell_type": "code",
   "execution_count": 22,
   "id": "virtual-london",
   "metadata": {},
   "outputs": [
    {
     "data": {
      "text/plain": [
       "array([1.10249227e-01, 4.94915814e-02, 1.49433056e-02, 1.88379053e-02,\n",
       "       1.12378926e-02, 6.83298046e-04, 8.05854940e-04, 5.28542766e-03,\n",
       "       1.21862491e-02, 8.97947426e-03, 1.57285475e-02, 7.97871363e-03,\n",
       "       1.14474755e-02, 8.58726915e-03, 4.61917603e-03, 3.54834953e-03,\n",
       "       2.20776317e-04, 2.20948645e-04, 3.25229113e-04, 3.78566540e-04,\n",
       "       8.80035962e-04, 1.01342851e-04, 3.41257301e-05, 1.95746538e-04,\n",
       "       1.59386038e-03, 5.27146806e-03, 8.73032592e-04, 3.72706229e-03,\n",
       "       1.23031965e-03, 1.92457485e-03, 2.95621175e-03, 2.59709229e-04,\n",
       "       2.34613922e-04, 1.28442054e-04, 2.57595100e-03, 2.01124337e-03,\n",
       "       9.81916664e-03, 1.16517183e-02, 6.31226536e-03, 3.00201785e-04,\n",
       "       1.46170886e-03, 7.61842149e-03, 3.22821586e-03, 6.25136696e-04,\n",
       "       3.50094896e-04, 1.59144412e-03, 9.68085498e-06, 4.39658435e-03,\n",
       "       7.13083135e-03, 2.53874067e-03, 5.40019811e-04, 2.05847303e-04,\n",
       "       3.54006701e-04, 7.39160661e-03, 2.82834924e-02, 3.32924665e-03,\n",
       "       2.87226278e-04, 4.73718226e-03, 0.00000000e+00, 3.10784477e-02,\n",
       "       8.05800545e-03, 3.53178374e-03, 6.08061965e-03, 4.68570880e-03,\n",
       "       1.28497519e-03, 1.17141088e-04, 2.23074475e-03, 4.58108129e-04,\n",
       "       1.59807960e-03, 4.72432158e-03, 1.93022914e-03, 4.32858711e-03,\n",
       "       1.06019101e-04, 5.29630646e-04, 1.44093989e-03, 0.00000000e+00,\n",
       "       2.29127306e-04, 1.00352077e-03, 1.81929219e-03, 7.60947916e-03,\n",
       "       2.41020818e-03, 8.11304381e-05, 2.74973536e-04, 1.22238332e-03,\n",
       "       3.71130764e-03, 5.10077529e-03, 1.61440167e-02, 1.39304795e-03,\n",
       "       1.56158413e-03, 5.56622730e-03, 9.48563382e-03, 5.70252563e-03,\n",
       "       1.21993143e-03, 3.37083315e-04, 2.20486178e-03, 2.19190807e-03,\n",
       "       1.48912869e-02, 5.85742367e-04, 2.95889305e-03, 3.28476758e-03,\n",
       "       1.77365820e-03, 1.16044583e-02, 2.35163425e-03, 1.42968279e-02,\n",
       "       3.69197789e-04, 7.08002121e-02, 6.93131213e-03, 2.41110080e-03,\n",
       "       7.06343068e-03, 4.03976904e-04, 3.88847137e-04, 2.17226762e-03,\n",
       "       5.58204099e-03, 1.83400156e-03, 2.95047654e-03, 2.65036209e-03,\n",
       "       5.23166843e-03, 1.23192278e-04, 6.42664372e-03, 1.22963261e-03,\n",
       "       4.62664896e-04, 1.05722741e-03, 5.05713777e-04, 4.06698881e-03,\n",
       "       2.21946339e-03, 1.73951317e-03, 9.81887083e-04, 7.85700007e-03,\n",
       "       3.51184517e-05, 6.76890528e-04, 5.29721096e-04, 6.21833310e-04,\n",
       "       8.12005111e-04, 7.23386467e-04, 9.04589400e-03, 1.36570886e-03,\n",
       "       2.90812705e-03, 3.63140889e-03, 3.38267788e-02, 1.49871266e-04,\n",
       "       1.38868107e-03, 3.42979269e-04, 1.95733667e-03, 2.86203596e-03,\n",
       "       1.34693640e-03, 1.97268878e-03, 1.55279007e-03, 5.25162007e-03,\n",
       "       1.58883572e-03, 2.95224610e-03, 2.15026050e-03, 1.91870790e-03,\n",
       "       2.00181630e-03, 5.69502520e-03, 1.63437539e-03, 4.67607950e-04,\n",
       "       3.67846804e-04, 2.93969986e-03, 7.99043003e-04, 5.46469307e-04,\n",
       "       4.40523137e-04, 1.92486268e-04, 7.02585304e-04, 1.75020673e-04,\n",
       "       1.78660274e-03, 1.62551841e-03, 1.39895315e-03, 3.92246757e-03,\n",
       "       9.59919967e-04, 1.00479814e-03, 1.23122324e-04, 2.55207116e-03,\n",
       "       3.83820980e-03, 5.71226559e-04, 5.30284331e-03, 5.73857504e-04,\n",
       "       9.08199257e-04, 6.03183958e-04, 5.94871017e-03, 6.11131883e-04,\n",
       "       2.35019519e-04, 1.43057219e-03, 1.23775179e-04, 5.71654847e-04,\n",
       "       4.21281414e-04, 1.84460637e-03, 6.37047369e-04, 8.36131800e-04,\n",
       "       5.64829881e-04, 8.74100202e-04, 1.30294562e-03, 1.45022302e-03,\n",
       "       5.16046562e-04, 8.15515829e-04, 2.13199182e-04, 2.47215499e-04,\n",
       "       9.37121424e-04, 9.34302319e-04, 5.66712124e-04, 3.10266724e-04,\n",
       "       3.47487633e-04, 3.20426913e-03, 8.74896557e-04, 2.86532932e-04,\n",
       "       1.59620986e-04, 2.20331089e-04, 1.40580226e-03, 7.21210735e-05,\n",
       "       9.39761887e-05, 2.59117003e-04, 2.01777213e-03, 1.83054543e-03,\n",
       "       2.28130677e-03, 2.17227850e-03, 1.66455430e-03, 2.45882753e-04,\n",
       "       7.37010588e-04, 1.67790325e-03, 2.64389898e-03, 7.32751131e-04,\n",
       "       2.98011951e-04, 2.51673187e-04, 4.68153347e-04, 2.00174733e-03,\n",
       "       1.66271645e-03, 1.07868568e-03, 5.16319586e-04, 9.93283195e-04,\n",
       "       8.77480877e-05, 1.22629723e-03, 9.95641577e-04, 2.54806807e-04,\n",
       "       3.83836726e-05, 3.51704843e-04, 2.08006388e-03, 5.95363951e-06,\n",
       "       3.02259143e-04, 3.05927819e-03, 1.32063767e-03, 1.14266670e-04,\n",
       "       2.15602399e-03, 1.21250058e-03, 2.98409146e-04, 2.72295245e-04,\n",
       "       1.94800637e-03, 1.41324104e-04, 1.16913302e-03, 4.86810509e-04,\n",
       "       8.39752814e-04, 2.03056222e-04, 3.14664072e-03, 4.93880238e-04,\n",
       "       9.45896534e-04, 4.95470869e-05, 2.55089127e-03, 2.43275555e-03,\n",
       "       3.90715816e-04, 8.17382660e-04, 8.40854853e-04, 4.01478693e-03,\n",
       "       2.24226799e-04, 1.29555574e-04, 6.77933941e-04, 8.27858986e-04,\n",
       "       3.76124147e-04, 5.24254335e-04, 5.08636111e-04, 1.70192180e-04,\n",
       "       2.35711847e-03, 1.99229945e-05, 5.16678292e-04, 1.34245262e-03,\n",
       "       1.36926751e-03, 4.86431401e-04, 8.10797168e-04, 1.08532497e-03,\n",
       "       9.79725283e-04, 3.39844622e-04, 2.45805123e-04, 1.83039673e-04,\n",
       "       5.82484754e-03, 4.48384279e-04, 8.54469938e-04, 7.59327806e-04,\n",
       "       7.66862454e-04, 6.27966721e-04, 5.38845196e-04, 6.17773429e-04,\n",
       "       4.10768841e-04, 2.25766927e-03, 1.78365576e-04, 2.56416480e-03,\n",
       "       1.65540996e-04, 3.24972917e-04, 2.76780397e-04, 1.49694494e-03,\n",
       "       8.44742086e-05, 1.59950649e-03, 7.54611131e-05, 7.32620773e-04,\n",
       "       4.42108177e-04, 2.51147052e-05, 4.42177905e-04, 2.25808267e-04,\n",
       "       4.70713928e-04, 3.38794072e-05, 4.56401689e-04, 4.88019524e-04,\n",
       "       6.60404902e-04, 5.22478035e-05, 2.29776322e-04, 6.15225333e-05,\n",
       "       4.30393023e-04, 7.15564151e-05, 7.69942150e-04, 7.89284871e-05,\n",
       "       0.00000000e+00, 9.43564878e-04, 5.19797169e-03, 3.73443060e-04,\n",
       "       7.10775136e-05, 1.12556661e-04, 7.66309683e-04, 4.72143570e-04,\n",
       "       3.23755513e-05, 7.22148483e-04, 5.43278453e-04, 1.07925795e-04,\n",
       "       1.56843565e-04, 1.64764165e-04, 6.29448930e-05, 3.00304596e-05,\n",
       "       2.06463130e-04, 0.00000000e+00, 8.44108676e-06, 1.39329265e-04,\n",
       "       2.41082251e-04, 2.46727523e-05, 2.60959199e-05, 2.42113980e-03,\n",
       "       1.48026361e-07, 3.14307333e-05, 1.26548905e-03])"
      ]
     },
     "execution_count": 22,
     "metadata": {},
     "output_type": "execute_result"
    }
   ],
   "source": [
    "# Random Forests calculate feature importance\n",
    "importances = brf1.feature_importances_\n",
    "importances"
   ]
  },
  {
   "cell_type": "code",
   "execution_count": 23,
   "id": "beautiful-partnership",
   "metadata": {},
   "outputs": [],
   "source": [
    "# evaluate feature importance from X parameters\n",
    "features_df = pd.DataFrame(zip(x_data.columns, brf1.feature_importances_))\n",
    "# sort by feature importance \n",
    "features_df = features_df.sort_values(by=[1], ascending=False)\n",
    "# features_df\n",
    "\n"
   ]
  },
  {
   "cell_type": "code",
   "execution_count": 24,
   "id": "useful-inside",
   "metadata": {
    "scrolled": true
   },
   "outputs": [
    {
     "data": {
      "text/html": [
       "<div>\n",
       "<style scoped>\n",
       "    .dataframe tbody tr th:only-of-type {\n",
       "        vertical-align: middle;\n",
       "    }\n",
       "\n",
       "    .dataframe tbody tr th {\n",
       "        vertical-align: top;\n",
       "    }\n",
       "\n",
       "    .dataframe thead th {\n",
       "        text-align: right;\n",
       "    }\n",
       "</style>\n",
       "<table border=\"1\" class=\"dataframe\">\n",
       "  <thead>\n",
       "    <tr style=\"text-align: right;\">\n",
       "      <th></th>\n",
       "      <th>0</th>\n",
       "      <th>1</th>\n",
       "    </tr>\n",
       "  </thead>\n",
       "  <tbody>\n",
       "    <tr>\n",
       "      <th>0</th>\n",
       "      <td>maxprice</td>\n",
       "      <td>0.110249</td>\n",
       "    </tr>\n",
       "    <tr>\n",
       "      <th>105</th>\n",
       "      <td>tagmultiplayer</td>\n",
       "      <td>0.070800</td>\n",
       "    </tr>\n",
       "    <tr>\n",
       "      <th>1</th>\n",
       "      <td>maxdiscount</td>\n",
       "      <td>0.049492</td>\n",
       "    </tr>\n",
       "    <tr>\n",
       "      <th>138</th>\n",
       "      <td>tagsingleplayer</td>\n",
       "      <td>0.033827</td>\n",
       "    </tr>\n",
       "    <tr>\n",
       "      <th>59</th>\n",
       "      <td>tagopenworld</td>\n",
       "      <td>0.031078</td>\n",
       "    </tr>\n",
       "    <tr>\n",
       "      <th>54</th>\n",
       "      <td>tagcoop</td>\n",
       "      <td>0.028283</td>\n",
       "    </tr>\n",
       "    <tr>\n",
       "      <th>3</th>\n",
       "      <td>tagaction</td>\n",
       "      <td>0.018838</td>\n",
       "    </tr>\n",
       "    <tr>\n",
       "      <th>86</th>\n",
       "      <td>taggreatsoundtrack</td>\n",
       "      <td>0.016144</td>\n",
       "    </tr>\n",
       "    <tr>\n",
       "      <th>10</th>\n",
       "      <td>tagindie</td>\n",
       "      <td>0.015729</td>\n",
       "    </tr>\n",
       "    <tr>\n",
       "      <th>2</th>\n",
       "      <td>tagstrategy</td>\n",
       "      <td>0.014943</td>\n",
       "    </tr>\n",
       "    <tr>\n",
       "      <th>96</th>\n",
       "      <td>tagsandbox</td>\n",
       "      <td>0.014891</td>\n",
       "    </tr>\n",
       "    <tr>\n",
       "      <th>103</th>\n",
       "      <td>tagonlinecoop</td>\n",
       "      <td>0.014297</td>\n",
       "    </tr>\n",
       "    <tr>\n",
       "      <th>8</th>\n",
       "      <td>tagrpg</td>\n",
       "      <td>0.012186</td>\n",
       "    </tr>\n",
       "    <tr>\n",
       "      <th>37</th>\n",
       "      <td>tagfps</td>\n",
       "      <td>0.011652</td>\n",
       "    </tr>\n",
       "    <tr>\n",
       "      <th>101</th>\n",
       "      <td>tagfirstperson</td>\n",
       "      <td>0.011604</td>\n",
       "    </tr>\n",
       "    <tr>\n",
       "      <th>12</th>\n",
       "      <td>tagcasual</td>\n",
       "      <td>0.011447</td>\n",
       "    </tr>\n",
       "    <tr>\n",
       "      <th>4</th>\n",
       "      <td>tagadventure</td>\n",
       "      <td>0.011238</td>\n",
       "    </tr>\n",
       "  </tbody>\n",
       "</table>\n",
       "</div>"
      ],
      "text/plain": [
       "                      0         1\n",
       "0              maxprice  0.110249\n",
       "105      tagmultiplayer  0.070800\n",
       "1           maxdiscount  0.049492\n",
       "138     tagsingleplayer  0.033827\n",
       "59         tagopenworld  0.031078\n",
       "54              tagcoop  0.028283\n",
       "3             tagaction  0.018838\n",
       "86   taggreatsoundtrack  0.016144\n",
       "10             tagindie  0.015729\n",
       "2           tagstrategy  0.014943\n",
       "96           tagsandbox  0.014891\n",
       "103       tagonlinecoop  0.014297\n",
       "8                tagrpg  0.012186\n",
       "37               tagfps  0.011652\n",
       "101      tagfirstperson  0.011604\n",
       "12            tagcasual  0.011447\n",
       "4          tagadventure  0.011238"
      ]
     },
     "execution_count": 24,
     "metadata": {},
     "output_type": "execute_result"
    }
   ],
   "source": [
    "# drop all variables less than 0.02 feature importance\n",
    "x_filtered_df = features_df[features_df[1]>=0.01]\n",
    "x_filtered_df"
   ]
  },
  {
   "cell_type": "code",
   "execution_count": null,
   "id": "impressive-variation",
   "metadata": {},
   "outputs": [],
   "source": []
  }
 ],
 "metadata": {
  "kernelspec": {
   "display_name": "Python [conda env:pythondata] *",
   "language": "python",
   "name": "conda-env-pythondata-py"
  },
  "language_info": {
   "codemirror_mode": {
    "name": "ipython",
    "version": 3
   },
   "file_extension": ".py",
   "mimetype": "text/x-python",
   "name": "python",
   "nbconvert_exporter": "python",
   "pygments_lexer": "ipython3",
   "version": "3.6.10"
  }
 },
 "nbformat": 4,
 "nbformat_minor": 5
}
