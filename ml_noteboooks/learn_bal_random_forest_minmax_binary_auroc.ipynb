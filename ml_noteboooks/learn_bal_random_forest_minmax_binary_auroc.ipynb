{
 "cells": [
  {
   "cell_type": "code",
   "execution_count": 1,
   "id": "nasty-pierre",
   "metadata": {},
   "outputs": [],
   "source": [
    "# approach is from this website: \n",
    "# https://www.pluralsight.com/guides/explore-python-libraries:-imbalanced-learn\n",
    "# BalancedRandomForestClassifier differs from SMOTE and ADASYN in that it is \n",
    "# not a resampling method, but rather a classifier in which the training employs \n",
    "# resampling internally. For more info, see Breinman et al., \n",
    "# Using Random Forest to Learn Imbalanced Data."
   ]
  },
  {
   "cell_type": "code",
   "execution_count": 2,
   "id": "desirable-asset",
   "metadata": {},
   "outputs": [],
   "source": [
    "# load necessary python libraries\n",
    "import numpy as np\n",
    "import pandas as pd\n",
    "import matplotlib.pyplot as plt\n",
    "import os"
   ]
  },
  {
   "cell_type": "code",
   "execution_count": 3,
   "id": "spread-loading",
   "metadata": {},
   "outputs": [],
   "source": [
    "# os.getcwd()"
   ]
  },
  {
   "cell_type": "code",
   "execution_count": 4,
   "id": "angry-incidence",
   "metadata": {
    "scrolled": true
   },
   "outputs": [],
   "source": [
    "# os.listdir(os.getcwd())"
   ]
  },
  {
   "cell_type": "code",
   "execution_count": 5,
   "id": "fleet-tournament",
   "metadata": {},
   "outputs": [
    {
     "data": {
      "text/plain": [
       "(31686, 357)"
      ]
     },
     "execution_count": 5,
     "metadata": {},
     "output_type": "execute_result"
    }
   ],
   "source": [
    "# read the csv x_data file into Pandas \n",
    "\n",
    "all_param_df = pd.read_csv(\"..\\\\reduced_data\\\\steam_all_param_binary_tags_merged_nan_removed.csv\")\n",
    "all_param_df.shape\n"
   ]
  },
  {
   "cell_type": "code",
   "execution_count": 6,
   "id": "standing-norman",
   "metadata": {},
   "outputs": [],
   "source": [
    "# using binary classification for logistic regression\n",
    "y_class = all_param_df['suc_class']"
   ]
  },
  {
   "cell_type": "code",
   "execution_count": 7,
   "id": "official-dream",
   "metadata": {},
   "outputs": [
    {
     "data": {
      "text/plain": [
       "0        1\n",
       "1        0\n",
       "2        0\n",
       "3        0\n",
       "4        0\n",
       "        ..\n",
       "31681    0\n",
       "31682    0\n",
       "31683    0\n",
       "31684    0\n",
       "31685    0\n",
       "Name: suc_class, Length: 31686, dtype: int64"
      ]
     },
     "execution_count": 7,
     "metadata": {},
     "output_type": "execute_result"
    }
   ],
   "source": [
    "y_class"
   ]
  },
  {
   "cell_type": "code",
   "execution_count": 8,
   "id": "administrative-aviation",
   "metadata": {},
   "outputs": [],
   "source": [
    "# create new X parameters df\n",
    "x_data = all_param_df.drop(['appid','maxccu','success_class','suc_class','followers','positive_y', 'negative_y', 'totaltags', 'recommendations', 'positive_x', 'negative_x']  , axis=1)"
   ]
  },
  {
   "cell_type": "code",
   "execution_count": 9,
   "id": "handy-biography",
   "metadata": {
    "scrolled": true
   },
   "outputs": [
    {
     "data": {
      "text/plain": [
       "(31686, 346)"
      ]
     },
     "execution_count": 9,
     "metadata": {},
     "output_type": "execute_result"
    }
   ],
   "source": [
    "x_data.shape"
   ]
  },
  {
   "cell_type": "code",
   "execution_count": 10,
   "id": "continent-review",
   "metadata": {},
   "outputs": [],
   "source": [
    "#label encode the developer name"
   ]
  },
  {
   "cell_type": "code",
   "execution_count": 11,
   "id": "painted-passenger",
   "metadata": {},
   "outputs": [],
   "source": [
    "x_data['developer']=x_data['developer'].astype('category')"
   ]
  },
  {
   "cell_type": "code",
   "execution_count": 12,
   "id": "welcome-abortion",
   "metadata": {},
   "outputs": [
    {
     "data": {
      "text/html": [
       "<div>\n",
       "<style scoped>\n",
       "    .dataframe tbody tr th:only-of-type {\n",
       "        vertical-align: middle;\n",
       "    }\n",
       "\n",
       "    .dataframe tbody tr th {\n",
       "        vertical-align: top;\n",
       "    }\n",
       "\n",
       "    .dataframe thead th {\n",
       "        text-align: right;\n",
       "    }\n",
       "</style>\n",
       "<table border=\"1\" class=\"dataframe\">\n",
       "  <thead>\n",
       "    <tr style=\"text-align: right;\">\n",
       "      <th></th>\n",
       "      <th>metascore</th>\n",
       "      <th>developer</th>\n",
       "      <th>publisher</th>\n",
       "      <th>maxprice</th>\n",
       "      <th>maxdiscount</th>\n",
       "      <th>tagstrategy</th>\n",
       "      <th>tagaction</th>\n",
       "      <th>tagadventure</th>\n",
       "      <th>tagdesignillustration</th>\n",
       "      <th>tagutilities</th>\n",
       "      <th>...</th>\n",
       "      <th>tagphilisophical</th>\n",
       "      <th>taggaming</th>\n",
       "      <th>tagfaith</th>\n",
       "      <th>tagmysterydungeon</th>\n",
       "      <th>tagfeaturefilm</th>\n",
       "      <th>tagsteammachine</th>\n",
       "      <th>tagclicker</th>\n",
       "      <th>taghardware</th>\n",
       "      <th>tag360video</th>\n",
       "      <th>tagvronly</th>\n",
       "    </tr>\n",
       "  </thead>\n",
       "  <tbody>\n",
       "    <tr>\n",
       "      <th>0</th>\n",
       "      <td>88</td>\n",
       "      <td>18255</td>\n",
       "      <td>Valve</td>\n",
       "      <td>999</td>\n",
       "      <td>90</td>\n",
       "      <td>1</td>\n",
       "      <td>1</td>\n",
       "      <td>0</td>\n",
       "      <td>0</td>\n",
       "      <td>0</td>\n",
       "      <td>...</td>\n",
       "      <td>0</td>\n",
       "      <td>0</td>\n",
       "      <td>0</td>\n",
       "      <td>0</td>\n",
       "      <td>0</td>\n",
       "      <td>0</td>\n",
       "      <td>0</td>\n",
       "      <td>0</td>\n",
       "      <td>0</td>\n",
       "      <td>0</td>\n",
       "    </tr>\n",
       "    <tr>\n",
       "      <th>1</th>\n",
       "      <td>0</td>\n",
       "      <td>18255</td>\n",
       "      <td>Valve</td>\n",
       "      <td>499</td>\n",
       "      <td>90</td>\n",
       "      <td>0</td>\n",
       "      <td>1</td>\n",
       "      <td>0</td>\n",
       "      <td>0</td>\n",
       "      <td>0</td>\n",
       "      <td>...</td>\n",
       "      <td>0</td>\n",
       "      <td>0</td>\n",
       "      <td>0</td>\n",
       "      <td>0</td>\n",
       "      <td>0</td>\n",
       "      <td>0</td>\n",
       "      <td>0</td>\n",
       "      <td>0</td>\n",
       "      <td>0</td>\n",
       "      <td>0</td>\n",
       "    </tr>\n",
       "    <tr>\n",
       "      <th>2</th>\n",
       "      <td>79</td>\n",
       "      <td>18255</td>\n",
       "      <td>Valve</td>\n",
       "      <td>499</td>\n",
       "      <td>90</td>\n",
       "      <td>1</td>\n",
       "      <td>1</td>\n",
       "      <td>0</td>\n",
       "      <td>0</td>\n",
       "      <td>0</td>\n",
       "      <td>...</td>\n",
       "      <td>0</td>\n",
       "      <td>0</td>\n",
       "      <td>0</td>\n",
       "      <td>0</td>\n",
       "      <td>0</td>\n",
       "      <td>0</td>\n",
       "      <td>0</td>\n",
       "      <td>0</td>\n",
       "      <td>0</td>\n",
       "      <td>0</td>\n",
       "    </tr>\n",
       "    <tr>\n",
       "      <th>3</th>\n",
       "      <td>0</td>\n",
       "      <td>18255</td>\n",
       "      <td>Valve</td>\n",
       "      <td>499</td>\n",
       "      <td>90</td>\n",
       "      <td>0</td>\n",
       "      <td>1</td>\n",
       "      <td>0</td>\n",
       "      <td>0</td>\n",
       "      <td>0</td>\n",
       "      <td>...</td>\n",
       "      <td>0</td>\n",
       "      <td>0</td>\n",
       "      <td>0</td>\n",
       "      <td>0</td>\n",
       "      <td>0</td>\n",
       "      <td>0</td>\n",
       "      <td>0</td>\n",
       "      <td>0</td>\n",
       "      <td>0</td>\n",
       "      <td>0</td>\n",
       "    </tr>\n",
       "    <tr>\n",
       "      <th>4</th>\n",
       "      <td>0</td>\n",
       "      <td>6704</td>\n",
       "      <td>Valve</td>\n",
       "      <td>499</td>\n",
       "      <td>90</td>\n",
       "      <td>0</td>\n",
       "      <td>1</td>\n",
       "      <td>1</td>\n",
       "      <td>0</td>\n",
       "      <td>0</td>\n",
       "      <td>...</td>\n",
       "      <td>0</td>\n",
       "      <td>0</td>\n",
       "      <td>0</td>\n",
       "      <td>0</td>\n",
       "      <td>0</td>\n",
       "      <td>0</td>\n",
       "      <td>0</td>\n",
       "      <td>0</td>\n",
       "      <td>0</td>\n",
       "      <td>0</td>\n",
       "    </tr>\n",
       "  </tbody>\n",
       "</table>\n",
       "<p>5 rows × 346 columns</p>\n",
       "</div>"
      ],
      "text/plain": [
       "   metascore  developer publisher  maxprice  maxdiscount  tagstrategy  \\\n",
       "0         88      18255     Valve       999           90            1   \n",
       "1          0      18255     Valve       499           90            0   \n",
       "2         79      18255     Valve       499           90            1   \n",
       "3          0      18255     Valve       499           90            0   \n",
       "4          0       6704     Valve       499           90            0   \n",
       "\n",
       "   tagaction  tagadventure  tagdesignillustration  tagutilities  ...  \\\n",
       "0          1             0                      0             0  ...   \n",
       "1          1             0                      0             0  ...   \n",
       "2          1             0                      0             0  ...   \n",
       "3          1             0                      0             0  ...   \n",
       "4          1             1                      0             0  ...   \n",
       "\n",
       "   tagphilisophical  taggaming  tagfaith  tagmysterydungeon  tagfeaturefilm  \\\n",
       "0                 0          0         0                  0               0   \n",
       "1                 0          0         0                  0               0   \n",
       "2                 0          0         0                  0               0   \n",
       "3                 0          0         0                  0               0   \n",
       "4                 0          0         0                  0               0   \n",
       "\n",
       "   tagsteammachine  tagclicker  taghardware  tag360video  tagvronly  \n",
       "0                0           0            0            0          0  \n",
       "1                0           0            0            0          0  \n",
       "2                0           0            0            0          0  \n",
       "3                0           0            0            0          0  \n",
       "4                0           0            0            0          0  \n",
       "\n",
       "[5 rows x 346 columns]"
      ]
     },
     "execution_count": 12,
     "metadata": {},
     "output_type": "execute_result"
    }
   ],
   "source": [
    "x_data['developer']=x_data['developer'].cat.codes\n",
    "x_data.head()"
   ]
  },
  {
   "cell_type": "code",
   "execution_count": 13,
   "id": "injured-trinidad",
   "metadata": {},
   "outputs": [],
   "source": [
    "#label encode the publisher name"
   ]
  },
  {
   "cell_type": "code",
   "execution_count": 14,
   "id": "acute-sarah",
   "metadata": {},
   "outputs": [],
   "source": [
    "x_data['publisher']=x_data['publisher'].astype('category')"
   ]
  },
  {
   "cell_type": "code",
   "execution_count": 15,
   "id": "hungry-clear",
   "metadata": {},
   "outputs": [
    {
     "data": {
      "text/html": [
       "<div>\n",
       "<style scoped>\n",
       "    .dataframe tbody tr th:only-of-type {\n",
       "        vertical-align: middle;\n",
       "    }\n",
       "\n",
       "    .dataframe tbody tr th {\n",
       "        vertical-align: top;\n",
       "    }\n",
       "\n",
       "    .dataframe thead th {\n",
       "        text-align: right;\n",
       "    }\n",
       "</style>\n",
       "<table border=\"1\" class=\"dataframe\">\n",
       "  <thead>\n",
       "    <tr style=\"text-align: right;\">\n",
       "      <th></th>\n",
       "      <th>metascore</th>\n",
       "      <th>developer</th>\n",
       "      <th>publisher</th>\n",
       "      <th>maxprice</th>\n",
       "      <th>maxdiscount</th>\n",
       "      <th>tagstrategy</th>\n",
       "      <th>tagaction</th>\n",
       "      <th>tagadventure</th>\n",
       "      <th>tagdesignillustration</th>\n",
       "      <th>tagutilities</th>\n",
       "      <th>...</th>\n",
       "      <th>tagphilisophical</th>\n",
       "      <th>taggaming</th>\n",
       "      <th>tagfaith</th>\n",
       "      <th>tagmysterydungeon</th>\n",
       "      <th>tagfeaturefilm</th>\n",
       "      <th>tagsteammachine</th>\n",
       "      <th>tagclicker</th>\n",
       "      <th>taghardware</th>\n",
       "      <th>tag360video</th>\n",
       "      <th>tagvronly</th>\n",
       "    </tr>\n",
       "  </thead>\n",
       "  <tbody>\n",
       "    <tr>\n",
       "      <th>0</th>\n",
       "      <td>88</td>\n",
       "      <td>18255</td>\n",
       "      <td>15348</td>\n",
       "      <td>999</td>\n",
       "      <td>90</td>\n",
       "      <td>1</td>\n",
       "      <td>1</td>\n",
       "      <td>0</td>\n",
       "      <td>0</td>\n",
       "      <td>0</td>\n",
       "      <td>...</td>\n",
       "      <td>0</td>\n",
       "      <td>0</td>\n",
       "      <td>0</td>\n",
       "      <td>0</td>\n",
       "      <td>0</td>\n",
       "      <td>0</td>\n",
       "      <td>0</td>\n",
       "      <td>0</td>\n",
       "      <td>0</td>\n",
       "      <td>0</td>\n",
       "    </tr>\n",
       "    <tr>\n",
       "      <th>1</th>\n",
       "      <td>0</td>\n",
       "      <td>18255</td>\n",
       "      <td>15348</td>\n",
       "      <td>499</td>\n",
       "      <td>90</td>\n",
       "      <td>0</td>\n",
       "      <td>1</td>\n",
       "      <td>0</td>\n",
       "      <td>0</td>\n",
       "      <td>0</td>\n",
       "      <td>...</td>\n",
       "      <td>0</td>\n",
       "      <td>0</td>\n",
       "      <td>0</td>\n",
       "      <td>0</td>\n",
       "      <td>0</td>\n",
       "      <td>0</td>\n",
       "      <td>0</td>\n",
       "      <td>0</td>\n",
       "      <td>0</td>\n",
       "      <td>0</td>\n",
       "    </tr>\n",
       "    <tr>\n",
       "      <th>2</th>\n",
       "      <td>79</td>\n",
       "      <td>18255</td>\n",
       "      <td>15348</td>\n",
       "      <td>499</td>\n",
       "      <td>90</td>\n",
       "      <td>1</td>\n",
       "      <td>1</td>\n",
       "      <td>0</td>\n",
       "      <td>0</td>\n",
       "      <td>0</td>\n",
       "      <td>...</td>\n",
       "      <td>0</td>\n",
       "      <td>0</td>\n",
       "      <td>0</td>\n",
       "      <td>0</td>\n",
       "      <td>0</td>\n",
       "      <td>0</td>\n",
       "      <td>0</td>\n",
       "      <td>0</td>\n",
       "      <td>0</td>\n",
       "      <td>0</td>\n",
       "    </tr>\n",
       "    <tr>\n",
       "      <th>3</th>\n",
       "      <td>0</td>\n",
       "      <td>18255</td>\n",
       "      <td>15348</td>\n",
       "      <td>499</td>\n",
       "      <td>90</td>\n",
       "      <td>0</td>\n",
       "      <td>1</td>\n",
       "      <td>0</td>\n",
       "      <td>0</td>\n",
       "      <td>0</td>\n",
       "      <td>...</td>\n",
       "      <td>0</td>\n",
       "      <td>0</td>\n",
       "      <td>0</td>\n",
       "      <td>0</td>\n",
       "      <td>0</td>\n",
       "      <td>0</td>\n",
       "      <td>0</td>\n",
       "      <td>0</td>\n",
       "      <td>0</td>\n",
       "      <td>0</td>\n",
       "    </tr>\n",
       "    <tr>\n",
       "      <th>4</th>\n",
       "      <td>0</td>\n",
       "      <td>6704</td>\n",
       "      <td>15348</td>\n",
       "      <td>499</td>\n",
       "      <td>90</td>\n",
       "      <td>0</td>\n",
       "      <td>1</td>\n",
       "      <td>1</td>\n",
       "      <td>0</td>\n",
       "      <td>0</td>\n",
       "      <td>...</td>\n",
       "      <td>0</td>\n",
       "      <td>0</td>\n",
       "      <td>0</td>\n",
       "      <td>0</td>\n",
       "      <td>0</td>\n",
       "      <td>0</td>\n",
       "      <td>0</td>\n",
       "      <td>0</td>\n",
       "      <td>0</td>\n",
       "      <td>0</td>\n",
       "    </tr>\n",
       "  </tbody>\n",
       "</table>\n",
       "<p>5 rows × 346 columns</p>\n",
       "</div>"
      ],
      "text/plain": [
       "   metascore  developer  publisher  maxprice  maxdiscount  tagstrategy  \\\n",
       "0         88      18255      15348       999           90            1   \n",
       "1          0      18255      15348       499           90            0   \n",
       "2         79      18255      15348       499           90            1   \n",
       "3          0      18255      15348       499           90            0   \n",
       "4          0       6704      15348       499           90            0   \n",
       "\n",
       "   tagaction  tagadventure  tagdesignillustration  tagutilities  ...  \\\n",
       "0          1             0                      0             0  ...   \n",
       "1          1             0                      0             0  ...   \n",
       "2          1             0                      0             0  ...   \n",
       "3          1             0                      0             0  ...   \n",
       "4          1             1                      0             0  ...   \n",
       "\n",
       "   tagphilisophical  taggaming  tagfaith  tagmysterydungeon  tagfeaturefilm  \\\n",
       "0                 0          0         0                  0               0   \n",
       "1                 0          0         0                  0               0   \n",
       "2                 0          0         0                  0               0   \n",
       "3                 0          0         0                  0               0   \n",
       "4                 0          0         0                  0               0   \n",
       "\n",
       "   tagsteammachine  tagclicker  taghardware  tag360video  tagvronly  \n",
       "0                0           0            0            0          0  \n",
       "1                0           0            0            0          0  \n",
       "2                0           0            0            0          0  \n",
       "3                0           0            0            0          0  \n",
       "4                0           0            0            0          0  \n",
       "\n",
       "[5 rows x 346 columns]"
      ]
     },
     "execution_count": 15,
     "metadata": {},
     "output_type": "execute_result"
    }
   ],
   "source": [
    "x_data['publisher']=x_data['publisher'].cat.codes\n",
    "x_data.head()"
   ]
  },
  {
   "cell_type": "code",
   "execution_count": 16,
   "id": "psychological-toronto",
   "metadata": {},
   "outputs": [],
   "source": [
    "# Instantiate the classifier\n",
    "\n",
    "from imblearn.ensemble import BalancedRandomForestClassifier\n",
    "\n",
    "brf = BalancedRandomForestClassifier(n_estimators=200, random_state=0)"
   ]
  },
  {
   "cell_type": "code",
   "execution_count": 17,
   "id": "continent-asbestos",
   "metadata": {},
   "outputs": [],
   "source": [
    "# define training and test data\n",
    "from sklearn.model_selection import train_test_split\n",
    "X_train, X_test, y_train, y_test = train_test_split(x_data, y_class, test_size=0.2, random_state=5)"
   ]
  },
  {
   "cell_type": "code",
   "execution_count": null,
   "id": "massive-thomas",
   "metadata": {},
   "outputs": [],
   "source": []
  },
  {
   "cell_type": "code",
   "execution_count": 18,
   "id": "loose-florida",
   "metadata": {},
   "outputs": [],
   "source": [
    "# baseline example\n",
    "from sklearn.linear_model import LogisticRegression\n",
    "from sklearn.metrics import accuracy_score"
   ]
  },
  {
   "cell_type": "code",
   "execution_count": 19,
   "id": "outer-cholesterol",
   "metadata": {},
   "outputs": [],
   "source": [
    "# Pre-processing  - scale the data using the MinMaxScaler and perform some feature selection\n",
    "\n",
    "from sklearn.preprocessing import MinMaxScaler\n",
    "x_scaler = MinMaxScaler().fit(X_train)"
   ]
  },
  {
   "cell_type": "code",
   "execution_count": 20,
   "id": "retired-flesh",
   "metadata": {},
   "outputs": [],
   "source": [
    "# apply the trained scales (MinMax) to the training and testing data\n",
    "\n",
    "X_train_scaled = x_scaler.transform(X_train)\n",
    "X_test_scaled = x_scaler.transform(X_test)"
   ]
  },
  {
   "cell_type": "code",
   "execution_count": 21,
   "id": "stone-merchandise",
   "metadata": {},
   "outputs": [],
   "source": [
    "# Instantiate and Train model\n",
    "y = y_train\n",
    "X = X_train_scaled\n",
    "\n",
    "brf.fit(X, y)\n",
    "y_pred = brf.predict(X_test_scaled)"
   ]
  },
  {
   "cell_type": "code",
   "execution_count": 22,
   "id": "bacterial-pierce",
   "metadata": {},
   "outputs": [
    {
     "name": "stdout",
     "output_type": "stream",
     "text": [
      "Training Data Score: 0.8724554205459997\n",
      "Testing Data Score: 0.8710949826443674\n"
     ]
    }
   ],
   "source": [
    "# Apply fitted model to test data - what accuracy?\n",
    "print(f\"Training Data Score: {brf.score(X, y)}\")\n",
    "print(f\"Testing Data Score: {brf.score(X_test_scaled, y_test)}\")"
   ]
  },
  {
   "cell_type": "code",
   "execution_count": 23,
   "id": "ahead-carolina",
   "metadata": {},
   "outputs": [
    {
     "name": "stdout",
     "output_type": "stream",
     "text": [
      "              precision    recall  f1-score   support\n",
      "\n",
      "           0       0.99      0.87      0.93      6154\n",
      "           1       0.16      0.82      0.27       184\n",
      "\n",
      "    accuracy                           0.87      6338\n",
      "   macro avg       0.58      0.85      0.60      6338\n",
      "weighted avg       0.97      0.87      0.91      6338\n",
      "\n"
     ]
    }
   ],
   "source": [
    "# Understand precision, recall, f1 score with classification report for logistic classification\n",
    "from sklearn.metrics import classification_report\n",
    "predictions = brf.predict(X_test_scaled)\n",
    "print(classification_report(y_test,predictions))"
   ]
  },
  {
   "cell_type": "code",
   "execution_count": 24,
   "id": "received-transformation",
   "metadata": {},
   "outputs": [],
   "source": [
    "# thinking about baseline results:\n",
    "# Support is not balanced - ~7700 of 1's and  160 0's\n",
    "# Percision: for no success: 100%, better for successful games: 20%\n",
    "# Percision= % of labeling an outcome that is correct from all the labels of that outcome\n",
    "# labeled cancer correctly from all labeled cancer\n",
    "# Recall: Fraction of positives found, 92% for 0, 92% for 1\n",
    "# Recall - % of true label found from all true cases of the label\n",
    "# how many of the cancer cases did you find\n",
    "# f1 score: 92% due to overfitting on failure cases"
   ]
  },
  {
   "cell_type": "code",
   "execution_count": 25,
   "id": "living-effects",
   "metadata": {},
   "outputs": [
    {
     "data": {
      "text/plain": [
       "<AxesSubplot:>"
      ]
     },
     "execution_count": 25,
     "metadata": {},
     "output_type": "execute_result"
    },
    {
     "data": {
      "image/png": "[encoded data removed]",
      "text/plain": [
       "<Figure size 432x288 with 2 Axes>"
      ]
     },
     "metadata": {
      "needs_background": "light"
     },
     "output_type": "display_data"
    }
   ],
   "source": [
    "from sklearn.metrics import confusion_matrix\n",
    "import seaborn as sns\n",
    "\n",
    "y_pred = brf.predict(X_test_scaled)\n",
    "cm2 = confusion_matrix(y_test, y_pred.round())\n",
    "sns.heatmap(cm2, annot=True, fmt=\".0f\")"
   ]
  },
  {
   "cell_type": "code",
   "execution_count": 26,
   "id": "minor-insider",
   "metadata": {},
   "outputs": [],
   "source": [
    "# Random Forests calculate feature importance\n",
    "importances = brf.feature_importances_\n",
    "# importances"
   ]
  },
  {
   "cell_type": "code",
   "execution_count": 27,
   "id": "sophisticated-index",
   "metadata": {},
   "outputs": [],
   "source": [
    "# evaluate feature importance from X parameters\n",
    "features_df = pd.DataFrame(zip(x_data.columns, brf.feature_importances_))\n",
    "# sort by feature importance \n",
    "features_df = features_df.sort_values(by=[1], ascending=False)\n",
    "# features_df\n",
    "\n"
   ]
  },
  {
   "cell_type": "code",
   "execution_count": 28,
   "id": "animated-radical",
   "metadata": {},
   "outputs": [
    {
     "data": {
      "text/html": [
       "<div>\n",
       "<style scoped>\n",
       "    .dataframe tbody tr th:only-of-type {\n",
       "        vertical-align: middle;\n",
       "    }\n",
       "\n",
       "    .dataframe tbody tr th {\n",
       "        vertical-align: top;\n",
       "    }\n",
       "\n",
       "    .dataframe thead th {\n",
       "        text-align: right;\n",
       "    }\n",
       "</style>\n",
       "<table border=\"1\" class=\"dataframe\">\n",
       "  <thead>\n",
       "    <tr style=\"text-align: right;\">\n",
       "      <th></th>\n",
       "      <th>0</th>\n",
       "      <th>1</th>\n",
       "    </tr>\n",
       "  </thead>\n",
       "  <tbody>\n",
       "    <tr>\n",
       "      <th>3</th>\n",
       "      <td>maxprice</td>\n",
       "      <td>0.082556</td>\n",
       "    </tr>\n",
       "    <tr>\n",
       "      <th>0</th>\n",
       "      <td>metascore</td>\n",
       "      <td>0.056462</td>\n",
       "    </tr>\n",
       "    <tr>\n",
       "      <th>108</th>\n",
       "      <td>tagmultiplayer</td>\n",
       "      <td>0.053179</td>\n",
       "    </tr>\n",
       "    <tr>\n",
       "      <th>2</th>\n",
       "      <td>publisher</td>\n",
       "      <td>0.041712</td>\n",
       "    </tr>\n",
       "    <tr>\n",
       "      <th>1</th>\n",
       "      <td>developer</td>\n",
       "      <td>0.040160</td>\n",
       "    </tr>\n",
       "    <tr>\n",
       "      <th>4</th>\n",
       "      <td>maxdiscount</td>\n",
       "      <td>0.038079</td>\n",
       "    </tr>\n",
       "    <tr>\n",
       "      <th>62</th>\n",
       "      <td>tagopenworld</td>\n",
       "      <td>0.037723</td>\n",
       "    </tr>\n",
       "    <tr>\n",
       "      <th>57</th>\n",
       "      <td>tagcoop</td>\n",
       "      <td>0.034192</td>\n",
       "    </tr>\n",
       "    <tr>\n",
       "      <th>141</th>\n",
       "      <td>tagsingleplayer</td>\n",
       "      <td>0.026293</td>\n",
       "    </tr>\n",
       "    <tr>\n",
       "      <th>6</th>\n",
       "      <td>tagaction</td>\n",
       "      <td>0.014926</td>\n",
       "    </tr>\n",
       "    <tr>\n",
       "      <th>89</th>\n",
       "      <td>taggreatsoundtrack</td>\n",
       "      <td>0.013384</td>\n",
       "    </tr>\n",
       "    <tr>\n",
       "      <th>13</th>\n",
       "      <td>tagindie</td>\n",
       "      <td>0.013162</td>\n",
       "    </tr>\n",
       "    <tr>\n",
       "      <th>106</th>\n",
       "      <td>tagonlinecoop</td>\n",
       "      <td>0.012501</td>\n",
       "    </tr>\n",
       "    <tr>\n",
       "      <th>137</th>\n",
       "      <td>tagatmospheric</td>\n",
       "      <td>0.012131</td>\n",
       "    </tr>\n",
       "    <tr>\n",
       "      <th>99</th>\n",
       "      <td>tagsandbox</td>\n",
       "      <td>0.011337</td>\n",
       "    </tr>\n",
       "    <tr>\n",
       "      <th>5</th>\n",
       "      <td>tagstrategy</td>\n",
       "      <td>0.011318</td>\n",
       "    </tr>\n",
       "    <tr>\n",
       "      <th>63</th>\n",
       "      <td>tagthirdperson</td>\n",
       "      <td>0.010692</td>\n",
       "    </tr>\n",
       "    <tr>\n",
       "      <th>7</th>\n",
       "      <td>tagadventure</td>\n",
       "      <td>0.010374</td>\n",
       "    </tr>\n",
       "    <tr>\n",
       "      <th>39</th>\n",
       "      <td>tagsurvival</td>\n",
       "      <td>0.010130</td>\n",
       "    </tr>\n",
       "  </tbody>\n",
       "</table>\n",
       "</div>"
      ],
      "text/plain": [
       "                      0         1\n",
       "3              maxprice  0.082556\n",
       "0             metascore  0.056462\n",
       "108      tagmultiplayer  0.053179\n",
       "2             publisher  0.041712\n",
       "1             developer  0.040160\n",
       "4           maxdiscount  0.038079\n",
       "62         tagopenworld  0.037723\n",
       "57              tagcoop  0.034192\n",
       "141     tagsingleplayer  0.026293\n",
       "6             tagaction  0.014926\n",
       "89   taggreatsoundtrack  0.013384\n",
       "13             tagindie  0.013162\n",
       "106       tagonlinecoop  0.012501\n",
       "137      tagatmospheric  0.012131\n",
       "99           tagsandbox  0.011337\n",
       "5           tagstrategy  0.011318\n",
       "63       tagthirdperson  0.010692\n",
       "7          tagadventure  0.010374\n",
       "39          tagsurvival  0.010130"
      ]
     },
     "execution_count": 28,
     "metadata": {},
     "output_type": "execute_result"
    }
   ],
   "source": [
    "# drop all variables less than 0.02 feature importance\n",
    "x_filtered_df = features_df[features_df[1]>=0.01]\n",
    "x_filtered_df"
   ]
  },
  {
   "cell_type": "code",
   "execution_count": 29,
   "id": "destroyed-graduation",
   "metadata": {},
   "outputs": [
    {
     "data": {
      "text/plain": [
       "array([[0.525, 0.475],\n",
       "       [0.66 , 0.34 ],\n",
       "       [0.305, 0.695],\n",
       "       ...,\n",
       "       [0.455, 0.545],\n",
       "       [0.525, 0.475],\n",
       "       [0.545, 0.455]])"
      ]
     },
     "execution_count": 29,
     "metadata": {},
     "output_type": "execute_result"
    }
   ],
   "source": [
    "# Apply Area Under ROC Curve scoring model (AUROC)\n",
    "from sklearn.metrics import roc_auc_score\n",
    "\n",
    "# Predict class probabilities\n",
    "prob_y_2 = brf.predict_proba(X_test)\n",
    "prob_y_2"
   ]
  },
  {
   "cell_type": "code",
   "execution_count": 30,
   "id": "super-referral",
   "metadata": {},
   "outputs": [],
   "source": [
    "# Keep only the positive class\n",
    "prob_y_2 = [p[1] for p in prob_y_2]"
   ]
  },
  {
   "cell_type": "code",
   "execution_count": 31,
   "id": "fifteen-handling",
   "metadata": {},
   "outputs": [
    {
     "name": "stdout",
     "output_type": "stream",
     "text": [
      "0.8853021541309293\n"
     ]
    }
   ],
   "source": [
    "# Print AUROC of SMOTE model\n",
    "# ROC is a probability curve and AUC represents the degree or measure of separability. \n",
    "# It tells how much the model is capable of distinguishing between classes. \n",
    "# Higher the AUC, the better the model is at predicting 0s as 0s and 1s as 1s.\n",
    "print( roc_auc_score(y_test, prob_y_2) )"
   ]
  },
  {
   "cell_type": "code",
   "execution_count": 32,
   "id": "deluxe-screw",
   "metadata": {},
   "outputs": [
    {
     "data": {
      "image/png": "[encoded data removed]",
      "text/plain": [
       "<Figure size 432x288 with 1 Axes>"
      ]
     },
     "metadata": {
      "needs_background": "light"
     },
     "output_type": "display_data"
    }
   ],
   "source": [
    "from sklearn.metrics import plot_roc_curve\n",
    "plot_roc_curve(brf, X_test, y_test)  \n",
    "plt.show()"
   ]
  },
  {
   "cell_type": "code",
   "execution_count": null,
   "id": "level-plane",
   "metadata": {},
   "outputs": [],
   "source": []
  }
 ],
 "metadata": {
  "kernelspec": {
   "display_name": "Python [conda env:pythondata] *",
   "language": "python",
   "name": "conda-env-pythondata-py"
  },
  "language_info": {
   "codemirror_mode": {
    "name": "ipython",
    "version": 3
   },
   "file_extension": ".py",
   "mimetype": "text/x-python",
   "name": "python",
   "nbconvert_exporter": "python",
   "pygments_lexer": "ipython3",
   "version": "3.6.10"
  }
 },
 "nbformat": 4,
 "nbformat_minor": 5
}
