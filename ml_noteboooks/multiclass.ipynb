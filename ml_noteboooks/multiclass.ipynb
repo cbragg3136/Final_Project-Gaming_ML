{
 "cells": [
  {
   "cell_type": "code",
   "execution_count": 79,
   "metadata": {},
   "outputs": [],
   "source": [
    "import numpy as np\n",
    "import pandas as pd\n",
    "import matplotlib.pyplot as plt\n",
    "import seaborn as sns\n",
    "from scipy.integrate import simps,cumtrapz\n",
    "\n",
    "from sklearn.model_selection import train_test_split\n",
    "from sklearn.linear_model import LogisticRegression\n",
    "from sklearn.metrics import accuracy_score, classification_report, confusion_matrix, roc_auc_score, roc_curve\n",
    "from sklearn.preprocessing import MinMaxScaler, normalize\n",
    "from sklearn.multiclass import OneVsRestClassifier\n",
    "\n",
    "from imblearn.over_sampling import ADASYN, SMOTE"
   ]
  },
  {
   "cell_type": "code",
   "execution_count": 2,
   "metadata": {},
   "outputs": [],
   "source": [
    "all_param_df = pd.read_csv(\"../reduced_data/steam_all_param_merged_nan_removed_newclasses.csv\")"
   ]
  },
  {
   "cell_type": "code",
   "execution_count": 3,
   "metadata": {
    "scrolled": true
   },
   "outputs": [
    {
     "data": {
      "text/plain": [
       "success_class\n",
       "A      261\n",
       "B      193\n",
       "C      349\n",
       "D      830\n",
       "F    29984\n",
       "Name: appid, dtype: int64"
      ]
     },
     "execution_count": 3,
     "metadata": {},
     "output_type": "execute_result"
    }
   ],
   "source": [
    "all_param_df.dropna(inplace=True)\n",
    "all_param_df.groupby(\"success_class\")[\"appid\"].nunique()"
   ]
  },
  {
   "cell_type": "markdown",
   "metadata": {},
   "source": [
    "# Feature engineering"
   ]
  },
  {
   "cell_type": "code",
   "execution_count": 4,
   "metadata": {},
   "outputs": [
    {
     "data": {
      "text/plain": [
       "tagphilisophical       0.000000\n",
       "taglaracroft           0.000000\n",
       "tagstarwars            0.000000\n",
       "tagbatman              0.000000\n",
       "taghardware            0.508622\n",
       "                       ...     \n",
       "tagstrategy         1314.938123\n",
       "tagadventure        2318.502854\n",
       "tagaction           2530.194151\n",
       "tagcasual           2795.737139\n",
       "tagindie            4513.547714\n",
       "Length: 341, dtype: float64"
      ]
     },
     "execution_count": 4,
     "metadata": {},
     "output_type": "execute_result"
    }
   ],
   "source": [
    "# define the target column\n",
    "y = all_param_df[\"success_class\"]\n",
    "\n",
    "# create a list of columns to drop\n",
    "drop_cols = ['appid','maxccu','success_class','suc_class','totaltags','followers',\n",
    "             'recommendations','positive_x','positive_y','negative_x','negative_y']\n",
    "x_data = all_param_df.drop(drop_cols, axis=1)\n",
    "\n",
    "# transform \"developer\" and \"publisher\" columns from strings to codes \n",
    "x_data[\"developer\"] = x_data[\"developer\"].astype('category').cat.codes\n",
    "x_data[\"publisher\"] = x_data[\"publisher\"].astype('category').cat.codes\n",
    "\n",
    "# columns from 5 on are tags\n",
    "tags = x_data.iloc[:,5:]\n",
    "# normalize the tag values so they sum to 1\n",
    "norm_tags = normalize(tags,norm='l1')\n",
    "# replace the values with the normalized values\n",
    "x_data.iloc[:,5:] = norm_tags\n",
    "x_data.iloc[:,5:].sum().sort_values()"
   ]
  },
  {
   "cell_type": "markdown",
   "metadata": {},
   "source": [
    "## ADASYN over sampling"
   ]
  },
  {
   "cell_type": "code",
   "execution_count": 5,
   "metadata": {},
   "outputs": [],
   "source": [
    "X_adasyn, y_adasyn = ADASYN().fit_sample(x_data, y)"
   ]
  },
  {
   "cell_type": "code",
   "execution_count": 6,
   "metadata": {},
   "outputs": [
    {
     "data": {
      "text/plain": [
       "D    30068\n",
       "B    30017\n",
       "F    29984\n",
       "C    29979\n",
       "A    29910\n",
       "Name: success_class, dtype: int64"
      ]
     },
     "execution_count": 6,
     "metadata": {},
     "output_type": "execute_result"
    }
   ],
   "source": [
    "# verify that classes are balanced\n",
    "X_adasyn = pd.DataFrame(X_adasyn)\n",
    "y_adasyn = pd.DataFrame(y_adasyn)\n",
    "y_adasyn.iloc[:, 0].value_counts()"
   ]
  },
  {
   "cell_type": "code",
   "execution_count": 7,
   "metadata": {},
   "outputs": [],
   "source": [
    "X_train, X_test, y_train, y_test = train_test_split(X_adasyn, y_adasyn, random_state=5)"
   ]
  },
  {
   "cell_type": "code",
   "execution_count": 8,
   "metadata": {},
   "outputs": [],
   "source": [
    "# the tags are already scaled so only scale the first 5 columns\n",
    "x_scaler = MinMaxScaler(feature_range=(0,5)).fit(X_train)"
   ]
  },
  {
   "cell_type": "code",
   "execution_count": 9,
   "metadata": {},
   "outputs": [],
   "source": [
    "X_train_scaled = x_scaler.transform(X_train)\n",
    "X_test_scaled = x_scaler.transform(X_test)"
   ]
  },
  {
   "cell_type": "code",
   "execution_count": 10,
   "metadata": {},
   "outputs": [
    {
     "name": "stderr",
     "output_type": "stream",
     "text": [
      "/opt/miniconda3/envs/PythonData/lib/python3.6/site-packages/sklearn/utils/validation.py:72: DataConversionWarning: A column-vector y was passed when a 1d array was expected. Please change the shape of y to (n_samples, ), for example using ravel().\n",
      "  return f(**kwargs)\n"
     ]
    }
   ],
   "source": [
    "# y = y_train\n",
    "# X = X_train_scaled\n",
    "\n",
    "log_reg = LogisticRegression(max_iter=2000).fit(X_train_scaled, y_train)"
   ]
  },
  {
   "cell_type": "code",
   "execution_count": 11,
   "metadata": {},
   "outputs": [
    {
     "name": "stdout",
     "output_type": "stream",
     "text": [
      "Training Data Score: 0.7057740868513711\n",
      "Testing Data Score: 0.6995465457455321\n"
     ]
    }
   ],
   "source": [
    "# Apply fitted model to test data - what accuracy?\n",
    "print(f\"Training Data Score: {log_reg.score(X_train_scaled, y_train)}\")\n",
    "print(f\"Testing Data Score: {log_reg.score(X_test_scaled, y_test)}\")"
   ]
  },
  {
   "cell_type": "code",
   "execution_count": 15,
   "metadata": {},
   "outputs": [
    {
     "name": "stdout",
     "output_type": "stream",
     "text": [
      "              precision    recall  f1-score   support\n",
      "\n",
      "           A       0.78      0.84      0.81      7468\n",
      "           B       0.75      0.83      0.79      7503\n",
      "           C       0.68      0.65      0.67      7576\n",
      "           D       0.63      0.51      0.56      7442\n",
      "           F       0.63      0.67      0.65      7501\n",
      "\n",
      "    accuracy                           0.70     37490\n",
      "   macro avg       0.70      0.70      0.70     37490\n",
      "weighted avg       0.70      0.70      0.70     37490\n",
      "\n"
     ]
    }
   ],
   "source": [
    "# Understand precision, recall, f1 score with classification report for logistic classification\n",
    "predictions = log_reg.predict(X_test_scaled)\n",
    "print(classification_report(y_test,predictions))\n",
    "\n",
    "probs = log_reg.predict_proba(X_test_scaled)"
   ]
  },
  {
   "cell_type": "code",
   "execution_count": 13,
   "metadata": {},
   "outputs": [
    {
     "data": {
      "text/plain": [
       "<matplotlib.axes._subplots.AxesSubplot at 0x7fd35e05ea90>"
      ]
     },
     "execution_count": 13,
     "metadata": {},
     "output_type": "execute_result"
    },
    {
     "data": {
      "image/png": "[encoded data removed]",
      "text/plain": [
       "<Figure size 432x288 with 2 Axes>"
      ]
     },
     "metadata": {
      "needs_background": "light"
     },
     "output_type": "display_data"
    }
   ],
   "source": [
    "y_pred = log_reg.predict(X_test_scaled)\n",
    "labels = ['A','B','C','D','F']\n",
    "cm2 = confusion_matrix(y_test, y_pred,labels=labels)\n",
    "sns.heatmap(cm2, annot=True, fmt=\".0f\", xticklabels=labels, yticklabels=labels)"
   ]
  },
  {
   "cell_type": "code",
   "execution_count": 28,
   "metadata": {},
   "outputs": [],
   "source": [
    "ovr_clf = OneVsRestClassifier(LogisticRegression(max_iter=2000))\n",
    "ovr_clf.fit(X_train_scaled,y_train)\n",
    "\n",
    "preds = ovr_clf.predict(X_test_scaled)\n",
    "probs = ovr_clf.predict_proba(X_test_scaled)"
   ]
  },
  {
   "cell_type": "code",
   "execution_count": 54,
   "metadata": {},
   "outputs": [],
   "source": [
    "tpr = {}\n",
    "fpr = {}\n",
    "thresh ={}\n",
    "\n",
    "for i,label in zip(range(5),labels):\n",
    "    fpr[label],tpr[label],thresh[label] = roc_curve(y_test,probs[:,i],pos_label=label)"
   ]
  },
  {
   "cell_type": "code",
   "execution_count": 90,
   "metadata": {},
   "outputs": [
    {
     "data": {
      "text/plain": [
       "Text(0.5, 1.0, 'Receiver Operation Curve - ADASYN+LR')"
      ]
     },
     "execution_count": 90,
     "metadata": {},
     "output_type": "execute_result"
    },
    {
     "data": {
      "image/png": "[encoded data removed]",
      "text/plain": [
       "<Figure size 432x288 with 1 Axes>"
      ]
     },
     "metadata": {
      "needs_background": "light"
     },
     "output_type": "display_data"
    }
   ],
   "source": [
    "for label in labels:\n",
    "    plt.plot(fpr[label],tpr[label],label=label)\n",
    "plt.legend()\n",
    "plt.xlabel('False Positive Rate')\n",
    "plt.ylabel('True Positive Rate')\n",
    "plt.title('Receiver Operation Curve - ADASYN+LR')\n",
    "\n",
    "# print(roc_auc_score(y_test.values.ravel(),probs,multi_class='ovr'))"
   ]
  },
  {
   "cell_type": "code",
   "execution_count": 91,
   "metadata": {},
   "outputs": [
    {
     "data": {
      "text/plain": [
       "0.9134378925458295"
      ]
     },
     "execution_count": 91,
     "metadata": {},
     "output_type": "execute_result"
    }
   ],
   "source": [
    "y_probs = log_reg.predict_proba(X_test_scaled)\n",
    "\n",
    "#roc_auc_score(y_test,y_probs,multi_class=\"ovr\")\n",
    "roc_auc_score(y_test.values.ravel(),y_probs,multi_class=\"ovr\")"
   ]
  },
  {
   "cell_type": "code",
   "execution_count": 103,
   "metadata": {},
   "outputs": [
    {
     "data": {
      "text/html": [
       "<div>\n",
       "<style scoped>\n",
       "    .dataframe tbody tr th:only-of-type {\n",
       "        vertical-align: middle;\n",
       "    }\n",
       "\n",
       "    .dataframe tbody tr th {\n",
       "        vertical-align: top;\n",
       "    }\n",
       "\n",
       "    .dataframe thead th {\n",
       "        text-align: right;\n",
       "    }\n",
       "</style>\n",
       "<table border=\"1\" class=\"dataframe\">\n",
       "  <thead>\n",
       "    <tr style=\"text-align: right;\">\n",
       "      <th></th>\n",
       "      <th>A</th>\n",
       "      <th>B</th>\n",
       "      <th>C</th>\n",
       "      <th>D</th>\n",
       "      <th>F</th>\n",
       "    </tr>\n",
       "    <tr>\n",
       "      <th>features</th>\n",
       "      <th></th>\n",
       "      <th></th>\n",
       "      <th></th>\n",
       "      <th></th>\n",
       "      <th></th>\n",
       "    </tr>\n",
       "  </thead>\n",
       "  <tbody>\n",
       "    <tr>\n",
       "      <th>tagforeign</th>\n",
       "      <td>5.996613</td>\n",
       "      <td>-5.196971</td>\n",
       "      <td>-2.700508</td>\n",
       "      <td>-1.762940</td>\n",
       "      <td>3.663805</td>\n",
       "    </tr>\n",
       "    <tr>\n",
       "      <th>taganimationmodeling</th>\n",
       "      <td>4.608390</td>\n",
       "      <td>-5.410043</td>\n",
       "      <td>-3.360441</td>\n",
       "      <td>2.375155</td>\n",
       "      <td>1.786938</td>\n",
       "    </tr>\n",
       "    <tr>\n",
       "      <th>maxprice</th>\n",
       "      <td>4.313681</td>\n",
       "      <td>4.803127</td>\n",
       "      <td>-1.983472</td>\n",
       "      <td>-6.771521</td>\n",
       "      <td>-0.361815</td>\n",
       "    </tr>\n",
       "    <tr>\n",
       "      <th>tagchess</th>\n",
       "      <td>4.148360</td>\n",
       "      <td>-3.174203</td>\n",
       "      <td>-2.328582</td>\n",
       "      <td>-0.247943</td>\n",
       "      <td>1.602367</td>\n",
       "    </tr>\n",
       "    <tr>\n",
       "      <th>tagdiplomacy</th>\n",
       "      <td>4.076368</td>\n",
       "      <td>-0.035283</td>\n",
       "      <td>-7.398073</td>\n",
       "      <td>1.671558</td>\n",
       "      <td>1.685429</td>\n",
       "    </tr>\n",
       "    <tr>\n",
       "      <th>...</th>\n",
       "      <td>...</td>\n",
       "      <td>...</td>\n",
       "      <td>...</td>\n",
       "      <td>...</td>\n",
       "      <td>...</td>\n",
       "    </tr>\n",
       "    <tr>\n",
       "      <th>tagcomicbook</th>\n",
       "      <td>-5.930931</td>\n",
       "      <td>2.276732</td>\n",
       "      <td>1.255004</td>\n",
       "      <td>1.213537</td>\n",
       "      <td>1.185659</td>\n",
       "    </tr>\n",
       "    <tr>\n",
       "      <th>tagartificialintelligence</th>\n",
       "      <td>-6.031976</td>\n",
       "      <td>-3.165415</td>\n",
       "      <td>1.363342</td>\n",
       "      <td>3.417121</td>\n",
       "      <td>4.416928</td>\n",
       "    </tr>\n",
       "    <tr>\n",
       "      <th>tagpermadeath</th>\n",
       "      <td>-7.122263</td>\n",
       "      <td>1.613812</td>\n",
       "      <td>3.498371</td>\n",
       "      <td>0.788964</td>\n",
       "      <td>1.221115</td>\n",
       "    </tr>\n",
       "    <tr>\n",
       "      <th>tagarcade</th>\n",
       "      <td>-7.256444</td>\n",
       "      <td>2.244430</td>\n",
       "      <td>1.839334</td>\n",
       "      <td>1.748271</td>\n",
       "      <td>1.424409</td>\n",
       "    </tr>\n",
       "    <tr>\n",
       "      <th>tagmatch3</th>\n",
       "      <td>-8.370966</td>\n",
       "      <td>2.197869</td>\n",
       "      <td>2.381844</td>\n",
       "      <td>2.066961</td>\n",
       "      <td>1.724292</td>\n",
       "    </tr>\n",
       "  </tbody>\n",
       "</table>\n",
       "<p>346 rows × 5 columns</p>\n",
       "</div>"
      ],
      "text/plain": [
       "                                  A         B         C         D         F\n",
       "features                                                                   \n",
       "tagforeign                 5.996613 -5.196971 -2.700508 -1.762940  3.663805\n",
       "taganimationmodeling       4.608390 -5.410043 -3.360441  2.375155  1.786938\n",
       "maxprice                   4.313681  4.803127 -1.983472 -6.771521 -0.361815\n",
       "tagchess                   4.148360 -3.174203 -2.328582 -0.247943  1.602367\n",
       "tagdiplomacy               4.076368 -0.035283 -7.398073  1.671558  1.685429\n",
       "...                             ...       ...       ...       ...       ...\n",
       "tagcomicbook              -5.930931  2.276732  1.255004  1.213537  1.185659\n",
       "tagartificialintelligence -6.031976 -3.165415  1.363342  3.417121  4.416928\n",
       "tagpermadeath             -7.122263  1.613812  3.498371  0.788964  1.221115\n",
       "tagarcade                 -7.256444  2.244430  1.839334  1.748271  1.424409\n",
       "tagmatch3                 -8.370966  2.197869  2.381844  2.066961  1.724292\n",
       "\n",
       "[346 rows x 5 columns]"
      ]
     },
     "execution_count": 103,
     "metadata": {},
     "output_type": "execute_result"
    }
   ],
   "source": [
    "# Co-efficient importance\n",
    "\n",
    "feature_weights = pd.DataFrame(log_reg.coef_.transpose(),columns=log_reg.classes_)\n",
    "feature_names = x_data.columns.to_frame().reset_index(drop=True)\n",
    "feature_names.columns = [\"features\"]\n",
    "feature_df = pd.merge(feature_names,feature_weights[labels],left_index=True,right_index=True)\n",
    "feature_df.set_index(\"features\",inplace=True)\n",
    "feature_df.sort_values('A',ascending=False,inplace=True)\n",
    "feature_df\n"
   ]
  },
  {
   "cell_type": "code",
   "execution_count": 104,
   "metadata": {},
   "outputs": [
    {
     "data": {
      "text/html": [
       "<div>\n",
       "<style scoped>\n",
       "    .dataframe tbody tr th:only-of-type {\n",
       "        vertical-align: middle;\n",
       "    }\n",
       "\n",
       "    .dataframe tbody tr th {\n",
       "        vertical-align: top;\n",
       "    }\n",
       "\n",
       "    .dataframe thead th {\n",
       "        text-align: right;\n",
       "    }\n",
       "</style>\n",
       "<table border=\"1\" class=\"dataframe\">\n",
       "  <thead>\n",
       "    <tr style=\"text-align: right;\">\n",
       "      <th></th>\n",
       "      <th>A</th>\n",
       "      <th>B</th>\n",
       "      <th>C</th>\n",
       "      <th>D</th>\n",
       "      <th>F</th>\n",
       "    </tr>\n",
       "    <tr>\n",
       "      <th>features</th>\n",
       "      <th></th>\n",
       "      <th></th>\n",
       "      <th></th>\n",
       "      <th></th>\n",
       "      <th></th>\n",
       "    </tr>\n",
       "  </thead>\n",
       "  <tbody>\n",
       "    <tr>\n",
       "      <th>maxprice</th>\n",
       "      <td>4.313681</td>\n",
       "      <td>4.803127</td>\n",
       "      <td>-1.983472</td>\n",
       "      <td>-6.771521</td>\n",
       "      <td>-0.361815</td>\n",
       "    </tr>\n",
       "    <tr>\n",
       "      <th>tagaudioproduction</th>\n",
       "      <td>-1.351119</td>\n",
       "      <td>3.867540</td>\n",
       "      <td>-0.770718</td>\n",
       "      <td>-2.687120</td>\n",
       "      <td>0.941417</td>\n",
       "    </tr>\n",
       "    <tr>\n",
       "      <th>tagstrategyrpg</th>\n",
       "      <td>-4.441759</td>\n",
       "      <td>2.984372</td>\n",
       "      <td>-0.339608</td>\n",
       "      <td>1.226496</td>\n",
       "      <td>0.570499</td>\n",
       "    </tr>\n",
       "    <tr>\n",
       "      <th>tagwarhammer40k</th>\n",
       "      <td>-1.381645</td>\n",
       "      <td>2.758628</td>\n",
       "      <td>0.650461</td>\n",
       "      <td>-0.560302</td>\n",
       "      <td>-1.467142</td>\n",
       "    </tr>\n",
       "    <tr>\n",
       "      <th>tagchoicesmatter</th>\n",
       "      <td>1.941576</td>\n",
       "      <td>2.685155</td>\n",
       "      <td>-0.881745</td>\n",
       "      <td>-1.078510</td>\n",
       "      <td>-2.666476</td>\n",
       "    </tr>\n",
       "    <tr>\n",
       "      <th>...</th>\n",
       "      <td>...</td>\n",
       "      <td>...</td>\n",
       "      <td>...</td>\n",
       "      <td>...</td>\n",
       "      <td>...</td>\n",
       "    </tr>\n",
       "    <tr>\n",
       "      <th>tagscoreattack</th>\n",
       "      <td>-3.400345</td>\n",
       "      <td>-5.745365</td>\n",
       "      <td>2.711718</td>\n",
       "      <td>3.252957</td>\n",
       "      <td>3.181035</td>\n",
       "    </tr>\n",
       "    <tr>\n",
       "      <th>tagfishing</th>\n",
       "      <td>1.445130</td>\n",
       "      <td>-5.986419</td>\n",
       "      <td>2.083280</td>\n",
       "      <td>1.563275</td>\n",
       "      <td>0.894734</td>\n",
       "    </tr>\n",
       "    <tr>\n",
       "      <th>tag1990s</th>\n",
       "      <td>3.854024</td>\n",
       "      <td>-6.027289</td>\n",
       "      <td>0.654679</td>\n",
       "      <td>0.026048</td>\n",
       "      <td>1.492539</td>\n",
       "    </tr>\n",
       "    <tr>\n",
       "      <th>tagsurreal</th>\n",
       "      <td>2.576675</td>\n",
       "      <td>-6.778929</td>\n",
       "      <td>0.727050</td>\n",
       "      <td>1.731161</td>\n",
       "      <td>1.744042</td>\n",
       "    </tr>\n",
       "    <tr>\n",
       "      <th>tagdetective</th>\n",
       "      <td>2.042234</td>\n",
       "      <td>-7.300445</td>\n",
       "      <td>2.541474</td>\n",
       "      <td>1.499507</td>\n",
       "      <td>1.217230</td>\n",
       "    </tr>\n",
       "  </tbody>\n",
       "</table>\n",
       "<p>346 rows × 5 columns</p>\n",
       "</div>"
      ],
      "text/plain": [
       "                           A         B         C         D         F\n",
       "features                                                            \n",
       "maxprice            4.313681  4.803127 -1.983472 -6.771521 -0.361815\n",
       "tagaudioproduction -1.351119  3.867540 -0.770718 -2.687120  0.941417\n",
       "tagstrategyrpg     -4.441759  2.984372 -0.339608  1.226496  0.570499\n",
       "tagwarhammer40k    -1.381645  2.758628  0.650461 -0.560302 -1.467142\n",
       "tagchoicesmatter    1.941576  2.685155 -0.881745 -1.078510 -2.666476\n",
       "...                      ...       ...       ...       ...       ...\n",
       "tagscoreattack     -3.400345 -5.745365  2.711718  3.252957  3.181035\n",
       "tagfishing          1.445130 -5.986419  2.083280  1.563275  0.894734\n",
       "tag1990s            3.854024 -6.027289  0.654679  0.026048  1.492539\n",
       "tagsurreal          2.576675 -6.778929  0.727050  1.731161  1.744042\n",
       "tagdetective        2.042234 -7.300445  2.541474  1.499507  1.217230\n",
       "\n",
       "[346 rows x 5 columns]"
      ]
     },
     "execution_count": 104,
     "metadata": {},
     "output_type": "execute_result"
    }
   ],
   "source": [
    "feature_df.sort_values('B',ascending=False)\n"
   ]
  },
  {
   "cell_type": "markdown",
   "metadata": {},
   "source": [
    "## SMOTE over sampling"
   ]
  },
  {
   "cell_type": "code",
   "execution_count": 105,
   "metadata": {},
   "outputs": [],
   "source": [
    "X_smote, y_smote = SMOTE().fit_sample(x_data, y)\n",
    "X_train, X_test, y_train, y_test = train_test_split(X_smote, y_smote, random_state=5)\n",
    "x_scaler = MinMaxScaler(feature_range=(0,5)).fit(X_train)\n",
    "\n",
    "X_train_scaled = x_scaler.transform(X_train)\n",
    "X_test_scaled = x_scaler.transform(X_test)\n",
    "\n",
    "# y = y_train\n",
    "# X = X_train_scaled\n",
    "\n",
    "clf = LogisticRegression(max_iter=2000).fit(X_train_scaled, y_train)"
   ]
  },
  {
   "cell_type": "code",
   "execution_count": 106,
   "metadata": {},
   "outputs": [
    {
     "name": "stdout",
     "output_type": "stream",
     "text": [
      "Training Data Score: 0.7080576307363927\n",
      "Testing Data Score: 0.7039220917822839\n"
     ]
    }
   ],
   "source": [
    "print(f\"Training Data Score: {clf.score(X_train_scaled, y_train)}\")\n",
    "print(f\"Testing Data Score: {clf.score(X_test_scaled, y_test)}\")"
   ]
  },
  {
   "cell_type": "code",
   "execution_count": 107,
   "metadata": {},
   "outputs": [
    {
     "name": "stdout",
     "output_type": "stream",
     "text": [
      "              precision    recall  f1-score   support\n",
      "\n",
      "           A       0.79      0.85      0.82      7487\n",
      "           B       0.75      0.83      0.79      7425\n",
      "           C       0.68      0.66      0.67      7581\n",
      "           D       0.64      0.51      0.57      7486\n",
      "           F       0.64      0.68      0.66      7501\n",
      "\n",
      "    accuracy                           0.70     37480\n",
      "   macro avg       0.70      0.70      0.70     37480\n",
      "weighted avg       0.70      0.70      0.70     37480\n",
      "\n"
     ]
    },
    {
     "data": {
      "text/plain": [
       "<matplotlib.axes._subplots.AxesSubplot at 0x7fd1baecc208>"
      ]
     },
     "execution_count": 107,
     "metadata": {},
     "output_type": "execute_result"
    },
    {
     "data": {
      "image/png": "[encoded data removed]",
      "text/plain": [
       "<Figure size 432x288 with 2 Axes>"
      ]
     },
     "metadata": {
      "needs_background": "light"
     },
     "output_type": "display_data"
    }
   ],
   "source": [
    "predictions = clf.predict(X_test_scaled)\n",
    "print(classification_report(y_test,predictions))\n",
    "\n",
    "y_pred = clf.predict(X_test_scaled)\n",
    "labels = ['A','B','C','D','F']\n",
    "cm2 = confusion_matrix(y_test, y_pred,labels=labels)\n",
    "sns.heatmap(cm2, annot=True, fmt=\".0f\", xticklabels=labels, yticklabels=labels)"
   ]
  },
  {
   "cell_type": "code",
   "execution_count": 108,
   "metadata": {},
   "outputs": [
    {
     "data": {
      "text/plain": [
       "0.915741592819552"
      ]
     },
     "execution_count": 108,
     "metadata": {},
     "output_type": "execute_result"
    }
   ],
   "source": [
    "y_probs = clf.predict_proba(X_test_scaled)\n",
    "\n",
    "roc_auc_score(y_test,y_probs,multi_class=\"ovr\")"
   ]
  },
  {
   "cell_type": "code",
   "execution_count": 96,
   "metadata": {},
   "outputs": [
    {
     "data": {
      "text/html": [
       "<div>\n",
       "<style scoped>\n",
       "    .dataframe tbody tr th:only-of-type {\n",
       "        vertical-align: middle;\n",
       "    }\n",
       "\n",
       "    .dataframe tbody tr th {\n",
       "        vertical-align: top;\n",
       "    }\n",
       "\n",
       "    .dataframe thead th {\n",
       "        text-align: right;\n",
       "    }\n",
       "</style>\n",
       "<table border=\"1\" class=\"dataframe\">\n",
       "  <thead>\n",
       "    <tr style=\"text-align: right;\">\n",
       "      <th></th>\n",
       "      <th>A</th>\n",
       "      <th>B</th>\n",
       "      <th>C</th>\n",
       "      <th>D</th>\n",
       "      <th>F</th>\n",
       "    </tr>\n",
       "    <tr>\n",
       "      <th>features</th>\n",
       "      <th></th>\n",
       "      <th></th>\n",
       "      <th></th>\n",
       "      <th></th>\n",
       "      <th></th>\n",
       "    </tr>\n",
       "  </thead>\n",
       "  <tbody>\n",
       "    <tr>\n",
       "      <th>taganimationmodeling</th>\n",
       "      <td>6.004158</td>\n",
       "      <td>-1.482882</td>\n",
       "      <td>-4.669503</td>\n",
       "      <td>-2.738908</td>\n",
       "      <td>2.887134</td>\n",
       "    </tr>\n",
       "    <tr>\n",
       "      <th>tag1990s</th>\n",
       "      <td>5.217804</td>\n",
       "      <td>-6.106684</td>\n",
       "      <td>0.680980</td>\n",
       "      <td>-0.907942</td>\n",
       "      <td>1.115841</td>\n",
       "    </tr>\n",
       "    <tr>\n",
       "      <th>tagtouchfriendly</th>\n",
       "      <td>5.065982</td>\n",
       "      <td>-6.357532</td>\n",
       "      <td>-5.493685</td>\n",
       "      <td>3.066078</td>\n",
       "      <td>3.719158</td>\n",
       "    </tr>\n",
       "    <tr>\n",
       "      <th>tagforeign</th>\n",
       "      <td>4.268859</td>\n",
       "      <td>-3.808866</td>\n",
       "      <td>-1.226643</td>\n",
       "      <td>-2.353408</td>\n",
       "      <td>3.120058</td>\n",
       "    </tr>\n",
       "    <tr>\n",
       "      <th>maxprice</th>\n",
       "      <td>4.172205</td>\n",
       "      <td>8.125025</td>\n",
       "      <td>-3.450439</td>\n",
       "      <td>-7.437649</td>\n",
       "      <td>-1.409143</td>\n",
       "    </tr>\n",
       "    <tr>\n",
       "      <th>...</th>\n",
       "      <td>...</td>\n",
       "      <td>...</td>\n",
       "      <td>...</td>\n",
       "      <td>...</td>\n",
       "      <td>...</td>\n",
       "    </tr>\n",
       "    <tr>\n",
       "      <th>tagboardgame</th>\n",
       "      <td>-5.631476</td>\n",
       "      <td>2.577029</td>\n",
       "      <td>2.119107</td>\n",
       "      <td>0.464700</td>\n",
       "      <td>0.470640</td>\n",
       "    </tr>\n",
       "    <tr>\n",
       "      <th>tagmatch3</th>\n",
       "      <td>-5.637177</td>\n",
       "      <td>1.457621</td>\n",
       "      <td>2.105840</td>\n",
       "      <td>1.034469</td>\n",
       "      <td>1.039247</td>\n",
       "    </tr>\n",
       "    <tr>\n",
       "      <th>tagagriculture</th>\n",
       "      <td>-6.164117</td>\n",
       "      <td>4.567353</td>\n",
       "      <td>-5.983856</td>\n",
       "      <td>4.038846</td>\n",
       "      <td>3.541774</td>\n",
       "    </tr>\n",
       "    <tr>\n",
       "      <th>tagcultclassic</th>\n",
       "      <td>-7.215852</td>\n",
       "      <td>5.604182</td>\n",
       "      <td>-0.116809</td>\n",
       "      <td>0.814250</td>\n",
       "      <td>0.914229</td>\n",
       "    </tr>\n",
       "    <tr>\n",
       "      <th>tag0ir</th>\n",
       "      <td>-7.752501</td>\n",
       "      <td>-1.459866</td>\n",
       "      <td>4.582708</td>\n",
       "      <td>2.267481</td>\n",
       "      <td>2.362178</td>\n",
       "    </tr>\n",
       "  </tbody>\n",
       "</table>\n",
       "<p>346 rows × 5 columns</p>\n",
       "</div>"
      ],
      "text/plain": [
       "                             A         B         C         D         F\n",
       "features                                                              \n",
       "taganimationmodeling  6.004158 -1.482882 -4.669503 -2.738908  2.887134\n",
       "tag1990s              5.217804 -6.106684  0.680980 -0.907942  1.115841\n",
       "tagtouchfriendly      5.065982 -6.357532 -5.493685  3.066078  3.719158\n",
       "tagforeign            4.268859 -3.808866 -1.226643 -2.353408  3.120058\n",
       "maxprice              4.172205  8.125025 -3.450439 -7.437649 -1.409143\n",
       "...                        ...       ...       ...       ...       ...\n",
       "tagboardgame         -5.631476  2.577029  2.119107  0.464700  0.470640\n",
       "tagmatch3            -5.637177  1.457621  2.105840  1.034469  1.039247\n",
       "tagagriculture       -6.164117  4.567353 -5.983856  4.038846  3.541774\n",
       "tagcultclassic       -7.215852  5.604182 -0.116809  0.814250  0.914229\n",
       "tag0ir               -7.752501 -1.459866  4.582708  2.267481  2.362178\n",
       "\n",
       "[346 rows x 5 columns]"
      ]
     },
     "execution_count": 96,
     "metadata": {},
     "output_type": "execute_result"
    }
   ],
   "source": [
    "feature_weights = pd.DataFrame(clf.coef_.transpose(),columns=clf.classes_)\n",
    "feature_names = x_data.columns.to_frame().reset_index(drop=True)\n",
    "feature_names.columns = [\"features\"]\n",
    "feature_df = pd.merge(feature_names,feature_weights[labels],left_index=True,right_index=True)\n",
    "feature_df.set_index(\"features\",inplace=True)\n",
    "feature_df.sort_values('A',ascending=False,inplace=True)\n",
    "feature_df"
   ]
  },
  {
   "cell_type": "code",
   "execution_count": 109,
   "metadata": {},
   "outputs": [],
   "source": [
    "ovr_clf.fit(X_train_scaled,y_train)\n",
    "\n",
    "preds = ovr_clf.predict(X_test_scaled)\n",
    "probs = ovr_clf.predict_proba(X_test_scaled)"
   ]
  },
  {
   "cell_type": "code",
   "execution_count": 110,
   "metadata": {},
   "outputs": [],
   "source": [
    "tpr = {}\n",
    "fpr = {}\n",
    "thresh ={}\n",
    "\n",
    "for i,label in zip(range(5),labels):\n",
    "    fpr[label],tpr[label],thresh[label] = roc_curve(y_test,probs[:,i],pos_label=label)"
   ]
  },
  {
   "cell_type": "code",
   "execution_count": 111,
   "metadata": {},
   "outputs": [
    {
     "data": {
      "text/plain": [
       "Text(0.5, 1.0, 'Receiver Operation Curve - SMOTE+LR')"
      ]
     },
     "execution_count": 111,
     "metadata": {},
     "output_type": "execute_result"
    },
    {
     "data": {
      "image/png": "[encoded data removed]",
      "text/plain": [
       "<Figure size 432x288 with 1 Axes>"
      ]
     },
     "metadata": {
      "needs_background": "light"
     },
     "output_type": "display_data"
    }
   ],
   "source": [
    "for label in labels:\n",
    "    plt.plot(fpr[label],tpr[label],label=label)\n",
    "plt.legend()\n",
    "plt.xlabel('False Positive Rate')\n",
    "plt.ylabel('True Positive Rate')\n",
    "plt.title('Receiver Operation Curve - SMOTE+LR')\n",
    "\n",
    "# print(roc_auc_score(y_test.values.ravel(),probs,multi_class='ovr'))"
   ]
  },
  {
   "cell_type": "code",
   "execution_count": null,
   "metadata": {},
   "outputs": [],
   "source": []
  }
 ],
 "metadata": {
  "kernelspec": {
   "display_name": "Python 3",
   "language": "python",
   "name": "python3"
  },
  "language_info": {
   "codemirror_mode": {
    "name": "ipython",
    "version": 3
   },
   "file_extension": ".py",
   "mimetype": "text/x-python",
   "name": "python",
   "nbconvert_exporter": "python",
   "pygments_lexer": "ipython3",
   "version": "3.6.10"
  }
 },
 "nbformat": 4,
 "nbformat_minor": 4
}
