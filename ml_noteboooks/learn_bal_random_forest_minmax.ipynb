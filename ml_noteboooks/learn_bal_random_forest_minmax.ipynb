{
 "cells": [
  {
   "cell_type": "code",
   "execution_count": 1,
   "id": "nasty-pierre",
   "metadata": {},
   "outputs": [],
   "source": [
    "# approach is from this website: \n",
    "# https://www.pluralsight.com/guides/explore-python-libraries:-imbalanced-learn\n",
    "# BalancedRandomForestClassifier differs from SMOTE and ADASYN in that it is \n",
    "# not a resampling method, but rather a classifier in which the training employs \n",
    "# resampling internally. For more info, see Breinman et al., \n",
    "# Using Random Forest to Learn Imbalanced Data."
   ]
  },
  {
   "cell_type": "code",
   "execution_count": 2,
   "id": "desirable-asset",
   "metadata": {},
   "outputs": [],
   "source": [
    "# load necessary python libraries\n",
    "import numpy as np\n",
    "import pandas as pd\n",
    "import matplotlib.pyplot as plt\n",
    "import os"
   ]
  },
  {
   "cell_type": "code",
   "execution_count": 3,
   "id": "spread-loading",
   "metadata": {},
   "outputs": [],
   "source": [
    "# os.getcwd()"
   ]
  },
  {
   "cell_type": "code",
   "execution_count": 4,
   "id": "angry-incidence",
   "metadata": {
    "scrolled": true
   },
   "outputs": [],
   "source": [
    "# os.listdir(os.getcwd())"
   ]
  },
  {
   "cell_type": "code",
   "execution_count": 5,
   "id": "fleet-tournament",
   "metadata": {},
   "outputs": [
    {
     "data": {
      "text/plain": [
       "(39624, 351)"
      ]
     },
     "execution_count": 5,
     "metadata": {},
     "output_type": "execute_result"
    }
   ],
   "source": [
    "# read the csv x_data file into Pandas \n",
    "\n",
    "all_param_df = pd.read_csv(\"..\\\\reduced_data\\\\all_param.csv\")\n",
    "all_param_df.shape\n"
   ]
  },
  {
   "cell_type": "code",
   "execution_count": 6,
   "id": "standing-norman",
   "metadata": {},
   "outputs": [],
   "source": [
    "# using binary classification for logistic regression\n",
    "y_class = all_param_df['suc_class']"
   ]
  },
  {
   "cell_type": "code",
   "execution_count": 7,
   "id": "official-dream",
   "metadata": {},
   "outputs": [
    {
     "data": {
      "text/plain": [
       "0        0\n",
       "1        0\n",
       "2        0\n",
       "3        0\n",
       "4        0\n",
       "        ..\n",
       "39619    1\n",
       "39620    1\n",
       "39621    1\n",
       "39622    1\n",
       "39623    1\n",
       "Name: suc_class, Length: 39624, dtype: int64"
      ]
     },
     "execution_count": 7,
     "metadata": {},
     "output_type": "execute_result"
    }
   ],
   "source": [
    "y_class"
   ]
  },
  {
   "cell_type": "code",
   "execution_count": 8,
   "id": "administrative-aviation",
   "metadata": {},
   "outputs": [],
   "source": [
    "# create new X parameters df\n",
    "x_data = all_param_df.drop(['appid','maxccu','success_class','suc_class','followers']  , axis=1)"
   ]
  },
  {
   "cell_type": "code",
   "execution_count": 40,
   "id": "handy-biography",
   "metadata": {
    "scrolled": true
   },
   "outputs": [
    {
     "data": {
      "text/plain": [
       "(39624, 346)"
      ]
     },
     "execution_count": 40,
     "metadata": {},
     "output_type": "execute_result"
    }
   ],
   "source": [
    "x_data.shape"
   ]
  },
  {
   "cell_type": "code",
   "execution_count": 41,
   "id": "psychological-toronto",
   "metadata": {},
   "outputs": [],
   "source": [
    "# Instantiate the classifier\n",
    "\n",
    "from imblearn.ensemble import BalancedRandomForestClassifier\n",
    "\n",
    "brf = BalancedRandomForestClassifier(n_estimators=200, random_state=0)"
   ]
  },
  {
   "cell_type": "code",
   "execution_count": 42,
   "id": "continent-asbestos",
   "metadata": {},
   "outputs": [],
   "source": [
    "# define training and test data\n",
    "from sklearn.model_selection import train_test_split\n",
    "X_train, X_test, y_train, y_test = train_test_split(x_data, y_class, test_size=0.2, random_state=5)"
   ]
  },
  {
   "cell_type": "code",
   "execution_count": null,
   "id": "massive-thomas",
   "metadata": {},
   "outputs": [],
   "source": []
  },
  {
   "cell_type": "code",
   "execution_count": 43,
   "id": "loose-florida",
   "metadata": {},
   "outputs": [],
   "source": [
    "# baseline example\n",
    "from sklearn.linear_model import LogisticRegression\n",
    "from sklearn.metrics import accuracy_score"
   ]
  },
  {
   "cell_type": "code",
   "execution_count": 44,
   "id": "outer-cholesterol",
   "metadata": {},
   "outputs": [],
   "source": [
    "# Pre-processing  - scale the data using the MinMaxScaler and perform some feature selection\n",
    "\n",
    "from sklearn.preprocessing import MinMaxScaler\n",
    "x_scaler = MinMaxScaler().fit(X_train)"
   ]
  },
  {
   "cell_type": "code",
   "execution_count": 45,
   "id": "retired-flesh",
   "metadata": {},
   "outputs": [],
   "source": [
    "# apply the trained scales (MinMax) to the training and testing data\n",
    "\n",
    "X_train_scaled = x_scaler.transform(X_train)\n",
    "X_test_scaled = x_scaler.transform(X_test)"
   ]
  },
  {
   "cell_type": "code",
   "execution_count": 46,
   "id": "stone-merchandise",
   "metadata": {},
   "outputs": [],
   "source": [
    "# Instantiate and Train model\n",
    "y = y_train\n",
    "X = X_train_scaled\n",
    "\n",
    "brf.fit(X, y)\n",
    "y_pred = brf.predict(X_test_scaled)"
   ]
  },
  {
   "cell_type": "code",
   "execution_count": 47,
   "id": "bacterial-pierce",
   "metadata": {},
   "outputs": [
    {
     "name": "stdout",
     "output_type": "stream",
     "text": [
      "Training Data Score: 0.9226789488627402\n",
      "Testing Data Score: 0.9241640378548895\n"
     ]
    }
   ],
   "source": [
    "# Apply fitted model to test data - what accuracy?\n",
    "print(f\"Training Data Score: {brf.score(X, y)}\")\n",
    "print(f\"Testing Data Score: {brf.score(X_test_scaled, y_test)}\")"
   ]
  },
  {
   "cell_type": "code",
   "execution_count": 48,
   "id": "ahead-carolina",
   "metadata": {},
   "outputs": [
    {
     "name": "stdout",
     "output_type": "stream",
     "text": [
      "              precision    recall  f1-score   support\n",
      "\n",
      "           0       1.00      0.92      0.96      7764\n",
      "           1       0.20      0.94      0.33       161\n",
      "\n",
      "    accuracy                           0.92      7925\n",
      "   macro avg       0.60      0.93      0.65      7925\n",
      "weighted avg       0.98      0.92      0.95      7925\n",
      "\n"
     ]
    }
   ],
   "source": [
    "# Understand precision, recall, f1 score with classification report for logistic classification\n",
    "from sklearn.metrics import classification_report\n",
    "predictions = brf.predict(X_test_scaled)\n",
    "print(classification_report(y_test,predictions))"
   ]
  },
  {
   "cell_type": "code",
   "execution_count": 49,
   "id": "received-transformation",
   "metadata": {},
   "outputs": [],
   "source": [
    "# thinking about baseline results:\n",
    "# Support is not balanced - ~7700 of 1's and  160 0's\n",
    "# Percision: for no success: 100%, better for successful games: 20%\n",
    "# Percision= % of labeling an outcome that is correct from all the labels of that outcome\n",
    "# labeled cancer correctly from all labeled cancer\n",
    "# Recall: Fraction of positives found, 92% for 0, 92% for 1\n",
    "# Recall - % of true label found from all true cases of the label\n",
    "# how many of the cancer cases did you find\n",
    "# f1 score: 92% due to overfitting on failure cases"
   ]
  },
  {
   "cell_type": "code",
   "execution_count": 50,
   "id": "living-effects",
   "metadata": {},
   "outputs": [
    {
     "data": {
      "text/plain": [
       "<AxesSubplot:>"
      ]
     },
     "execution_count": 50,
     "metadata": {},
     "output_type": "execute_result"
    },
    {
     "data": {
      "image/png": "[encoded data removed]",
      "text/plain": [
       "<Figure size 432x288 with 2 Axes>"
      ]
     },
     "metadata": {
      "needs_background": "light"
     },
     "output_type": "display_data"
    }
   ],
   "source": [
    "from sklearn.metrics import confusion_matrix\n",
    "import seaborn as sns\n",
    "\n",
    "y_pred = brf.predict(X_test_scaled)\n",
    "cm2 = confusion_matrix(y_test, y_pred.round())\n",
    "sns.heatmap(cm2, annot=True, fmt=\".0f\")"
   ]
  },
  {
   "cell_type": "code",
   "execution_count": 51,
   "id": "minor-insider",
   "metadata": {},
   "outputs": [
    {
     "data": {
      "text/plain": [
       "array([1.38817971e-01, 1.64751971e-01, 4.42149372e-02, 1.73167490e-02,\n",
       "       6.51934205e-02, 1.89169555e-02, 3.25508145e-02, 2.71932094e-02,\n",
       "       3.55943207e-05, 2.05306814e-04, 4.75016594e-03, 1.64402093e-02,\n",
       "       5.08090327e-03, 3.02427438e-02, 9.10710778e-03, 1.07471641e-02,\n",
       "       1.11690759e-02, 3.29870815e-03, 2.32354873e-03, 3.38621680e-05,\n",
       "       1.25315482e-06, 7.32050387e-05, 1.79725554e-04, 6.23062083e-04,\n",
       "       1.39904417e-05, 3.16445064e-05, 6.99123152e-05, 6.28159819e-04,\n",
       "       2.42758383e-03, 3.76204673e-04, 2.12367272e-03, 8.29882034e-04,\n",
       "       9.71911297e-04, 7.78104267e-04, 1.88174981e-04, 2.45147774e-04,\n",
       "       5.32761650e-05, 1.35112540e-03, 1.11476719e-03, 6.40424840e-03,\n",
       "       5.91500637e-03, 3.83182293e-03, 6.40038568e-05, 7.22936245e-04,\n",
       "       4.37107958e-03, 7.53730450e-04, 2.04827328e-04, 2.81363335e-04,\n",
       "       7.99731426e-04, 4.31015888e-05, 2.37553882e-03, 2.47125639e-03,\n",
       "       1.54340237e-03, 9.55455725e-05, 4.94407608e-05, 1.23449889e-04,\n",
       "       6.98640899e-03, 1.99646280e-02, 1.50158547e-03, 1.35615122e-04,\n",
       "       1.61691645e-03, 0.00000000e+00, 2.00943157e-02, 4.56329138e-03,\n",
       "       1.39862954e-03, 2.20592668e-03, 2.51029313e-03, 4.06245833e-04,\n",
       "       4.18139285e-04, 6.82318671e-04, 6.69186696e-05, 1.25616876e-04,\n",
       "       2.27995493e-03, 8.79851682e-04, 1.68908029e-03, 4.29819219e-05,\n",
       "       2.94408728e-04, 8.72976978e-04, 0.00000000e+00, 1.20559500e-04,\n",
       "       3.00773241e-04, 1.00464596e-03, 4.84899687e-03, 1.71986126e-03,\n",
       "       5.72140622e-05, 2.44180832e-04, 3.04223605e-04, 8.29861843e-04,\n",
       "       2.96086989e-03, 1.35375702e-02, 4.35930799e-04, 7.91738882e-04,\n",
       "       2.32307781e-03, 5.42897009e-03, 2.55413128e-03, 5.67557486e-04,\n",
       "       2.67553370e-05, 7.71987941e-04, 1.26193086e-03, 5.64442122e-03,\n",
       "       3.37668269e-04, 1.03261966e-03, 2.32543585e-03, 6.11721968e-04,\n",
       "       5.99932968e-03, 1.41147806e-03, 6.39565642e-03, 8.45309996e-05,\n",
       "       4.20808836e-02, 4.48650656e-03, 8.04948666e-04, 4.21696610e-03,\n",
       "       1.32499976e-04, 4.07449452e-04, 8.71491689e-04, 3.33095287e-03,\n",
       "       1.21337383e-03, 1.06199662e-03, 1.48652323e-03, 2.54303687e-03,\n",
       "       4.15831551e-05, 4.94853925e-03, 4.35395143e-04, 2.36276911e-04,\n",
       "       4.58754169e-04, 2.47632595e-04, 2.44640363e-03, 1.11652161e-03,\n",
       "       9.54285350e-04, 4.27687836e-04, 4.11151373e-03, 7.18011845e-05,\n",
       "       2.29209649e-04, 3.25755400e-04, 8.52639894e-05, 4.94740469e-04,\n",
       "       1.88438618e-04, 8.78515653e-03, 5.79911832e-04, 1.03010121e-03,\n",
       "       2.06201136e-03, 3.43797082e-02, 2.90349104e-05, 6.00430195e-04,\n",
       "       7.69201682e-05, 1.47456040e-03, 1.48291316e-03, 2.81464095e-04,\n",
       "       1.17589936e-04, 1.15754848e-03, 2.95344705e-03, 5.86259819e-04,\n",
       "       2.04095638e-03, 8.78632328e-04, 1.00400726e-03, 9.54182969e-04,\n",
       "       4.48028683e-03, 3.28343433e-04, 1.74330187e-04, 2.70103330e-04,\n",
       "       1.30658188e-03, 2.71352921e-04, 3.11533480e-04, 3.62612071e-04,\n",
       "       4.96020405e-05, 4.56427208e-04, 1.24626612e-04, 9.37880984e-04,\n",
       "       8.80782356e-04, 5.29066777e-04, 3.49311000e-03, 3.68348850e-04,\n",
       "       5.30934034e-04, 8.61590188e-05, 1.90854387e-03, 1.81016927e-03,\n",
       "       3.02343714e-04, 2.19857372e-03, 2.34438073e-04, 5.39104252e-04,\n",
       "       1.11778118e-04, 1.78733135e-03, 2.41037081e-04, 4.80991520e-05,\n",
       "       4.50330821e-04, 1.09914656e-04, 1.79718424e-04, 3.00824123e-04,\n",
       "       8.20602858e-04, 4.18329308e-04, 2.78102402e-04, 1.87049275e-04,\n",
       "       3.86237295e-04, 4.08912736e-04, 5.42281480e-04, 2.14677272e-04,\n",
       "       3.50786611e-04, 1.10048510e-04, 2.26585555e-04, 5.70938893e-04,\n",
       "       5.07328281e-04, 1.98319411e-05, 2.11256040e-04, 5.14825881e-05,\n",
       "       1.37192977e-03, 3.57641177e-04, 3.59147636e-04, 5.28230635e-05,\n",
       "       1.84513972e-04, 4.82898810e-04, 3.65629523e-05, 2.51668801e-05,\n",
       "       1.68104372e-04, 9.19258967e-04, 1.54847492e-03, 1.55304833e-03,\n",
       "       7.26731682e-04, 7.22052511e-04, 1.29232138e-04, 3.31766718e-04,\n",
       "       5.46074483e-04, 1.19018561e-03, 4.81572462e-04, 7.92689865e-05,\n",
       "       1.54887084e-04, 4.98451376e-04, 5.32752901e-04, 1.20972754e-03,\n",
       "       3.95462462e-04, 1.61433938e-04, 3.24108413e-04, 9.90518337e-05,\n",
       "       2.88237429e-04, 3.38596127e-04, 1.42846341e-04, 3.38150133e-05,\n",
       "       1.92637127e-04, 9.80510619e-04, 9.68121903e-05, 1.15441603e-04,\n",
       "       1.26912053e-03, 5.42258186e-04, 2.15688283e-04, 4.88158443e-04,\n",
       "       7.14708845e-04, 7.64155961e-05, 9.36124190e-05, 6.07140933e-04,\n",
       "       4.97009412e-05, 8.32064741e-04, 1.30102205e-04, 1.75511623e-04,\n",
       "       6.15866245e-05, 1.89294482e-03, 3.23518780e-04, 7.97078256e-04,\n",
       "       0.00000000e+00, 1.28524530e-03, 1.63133181e-03, 9.77413490e-05,\n",
       "       2.36258366e-04, 4.72527830e-04, 1.79752070e-03, 1.30618299e-04,\n",
       "       6.89720007e-05, 1.98867192e-04, 2.84515811e-04, 1.46339320e-04,\n",
       "       1.81139058e-04, 1.68324586e-04, 1.18782682e-04, 1.31191831e-03,\n",
       "       3.91558566e-05, 2.85522527e-04, 6.38734900e-04, 5.69721902e-04,\n",
       "       1.71349076e-04, 2.86095154e-04, 3.56727050e-04, 4.43035039e-04,\n",
       "       1.17885174e-04, 7.83620129e-05, 1.49260569e-04, 8.79288882e-04,\n",
       "       9.37064852e-05, 3.86793640e-04, 5.37700616e-04, 3.70172864e-04,\n",
       "       5.64093925e-04, 1.42591435e-04, 1.77045220e-04, 2.77787641e-04,\n",
       "       1.29718867e-03, 1.22646520e-04, 1.28667497e-03, 1.54041559e-04,\n",
       "       8.94619303e-05, 3.94397822e-05, 6.46864317e-04, 1.75853455e-04,\n",
       "       6.19486392e-04, 1.25979309e-05, 4.55330243e-04, 1.12951335e-04,\n",
       "       1.24713330e-04, 1.67864051e-04, 9.42320467e-05, 2.13575054e-04,\n",
       "       5.25810624e-05, 2.83911714e-04, 1.39544280e-04, 6.59443053e-04,\n",
       "       0.00000000e+00, 1.88281714e-04, 3.64703425e-05, 2.20596203e-04,\n",
       "       0.00000000e+00, 4.32968359e-04, 3.76047260e-05, 0.00000000e+00,\n",
       "       5.63995523e-04, 1.66667781e-03, 1.13170576e-04, 2.58473109e-06,\n",
       "       6.41203075e-05, 2.36974349e-04, 3.05056531e-04, 0.00000000e+00,\n",
       "       3.04294406e-04, 1.75801111e-04, 6.03168914e-05, 2.06764320e-05,\n",
       "       3.48576439e-05, 4.37275880e-05, 2.81458702e-05, 1.13191877e-04,\n",
       "       0.00000000e+00, 0.00000000e+00, 6.30878729e-05, 1.12345787e-04,\n",
       "       0.00000000e+00, 2.48923940e-05, 7.58896507e-04, 1.23089240e-07,\n",
       "       0.00000000e+00, 2.35249207e-04])"
      ]
     },
     "execution_count": 51,
     "metadata": {},
     "output_type": "execute_result"
    }
   ],
   "source": [
    "# Random Forests calculate feature importance\n",
    "importances = brf.feature_importances_\n",
    "importances"
   ]
  },
  {
   "cell_type": "code",
   "execution_count": 52,
   "id": "sophisticated-index",
   "metadata": {},
   "outputs": [],
   "source": [
    "# evaluate feature importance from X parameters\n",
    "features_df = pd.DataFrame(zip(x_data.columns, brf.feature_importances_))\n",
    "# sort by feature importance \n",
    "features_df = features_df.sort_values(by=[1], ascending=False)\n",
    "# features_df\n",
    "\n"
   ]
  },
  {
   "cell_type": "code",
   "execution_count": 54,
   "id": "animated-radical",
   "metadata": {},
   "outputs": [
    {
     "data": {
      "text/html": [
       "<div>\n",
       "<style scoped>\n",
       "    .dataframe tbody tr th:only-of-type {\n",
       "        vertical-align: middle;\n",
       "    }\n",
       "\n",
       "    .dataframe tbody tr th {\n",
       "        vertical-align: top;\n",
       "    }\n",
       "\n",
       "    .dataframe thead th {\n",
       "        text-align: right;\n",
       "    }\n",
       "</style>\n",
       "<table border=\"1\" class=\"dataframe\">\n",
       "  <thead>\n",
       "    <tr style=\"text-align: right;\">\n",
       "      <th></th>\n",
       "      <th>0</th>\n",
       "      <th>1</th>\n",
       "    </tr>\n",
       "  </thead>\n",
       "  <tbody>\n",
       "    <tr>\n",
       "      <th>1</th>\n",
       "      <td>negative</td>\n",
       "      <td>0.164752</td>\n",
       "    </tr>\n",
       "    <tr>\n",
       "      <th>0</th>\n",
       "      <td>positive</td>\n",
       "      <td>0.138818</td>\n",
       "    </tr>\n",
       "    <tr>\n",
       "      <th>4</th>\n",
       "      <td>totaltags</td>\n",
       "      <td>0.065193</td>\n",
       "    </tr>\n",
       "    <tr>\n",
       "      <th>2</th>\n",
       "      <td>maxprice</td>\n",
       "      <td>0.044215</td>\n",
       "    </tr>\n",
       "    <tr>\n",
       "      <th>108</th>\n",
       "      <td>tagmultiplayer</td>\n",
       "      <td>0.042081</td>\n",
       "    </tr>\n",
       "    <tr>\n",
       "      <th>141</th>\n",
       "      <td>tagsingleplayer</td>\n",
       "      <td>0.034380</td>\n",
       "    </tr>\n",
       "    <tr>\n",
       "      <th>6</th>\n",
       "      <td>tagaction</td>\n",
       "      <td>0.032551</td>\n",
       "    </tr>\n",
       "    <tr>\n",
       "      <th>13</th>\n",
       "      <td>tagindie</td>\n",
       "      <td>0.030243</td>\n",
       "    </tr>\n",
       "    <tr>\n",
       "      <th>7</th>\n",
       "      <td>tagadventure</td>\n",
       "      <td>0.027193</td>\n",
       "    </tr>\n",
       "    <tr>\n",
       "      <th>62</th>\n",
       "      <td>tagopenworld</td>\n",
       "      <td>0.020094</td>\n",
       "    </tr>\n",
       "    <tr>\n",
       "      <th>57</th>\n",
       "      <td>tagcoop</td>\n",
       "      <td>0.019965</td>\n",
       "    </tr>\n",
       "    <tr>\n",
       "      <th>5</th>\n",
       "      <td>tagstrategy</td>\n",
       "      <td>0.018917</td>\n",
       "    </tr>\n",
       "    <tr>\n",
       "      <th>3</th>\n",
       "      <td>maxdiscount</td>\n",
       "      <td>0.017317</td>\n",
       "    </tr>\n",
       "    <tr>\n",
       "      <th>11</th>\n",
       "      <td>tagrpg</td>\n",
       "      <td>0.016440</td>\n",
       "    </tr>\n",
       "    <tr>\n",
       "      <th>89</th>\n",
       "      <td>taggreatsoundtrack</td>\n",
       "      <td>0.013538</td>\n",
       "    </tr>\n",
       "    <tr>\n",
       "      <th>16</th>\n",
       "      <td>tagsimulation</td>\n",
       "      <td>0.011169</td>\n",
       "    </tr>\n",
       "    <tr>\n",
       "      <th>15</th>\n",
       "      <td>tagcasual</td>\n",
       "      <td>0.010747</td>\n",
       "    </tr>\n",
       "  </tbody>\n",
       "</table>\n",
       "</div>"
      ],
      "text/plain": [
       "                      0         1\n",
       "1              negative  0.164752\n",
       "0              positive  0.138818\n",
       "4             totaltags  0.065193\n",
       "2              maxprice  0.044215\n",
       "108      tagmultiplayer  0.042081\n",
       "141     tagsingleplayer  0.034380\n",
       "6             tagaction  0.032551\n",
       "13             tagindie  0.030243\n",
       "7          tagadventure  0.027193\n",
       "62         tagopenworld  0.020094\n",
       "57              tagcoop  0.019965\n",
       "5           tagstrategy  0.018917\n",
       "3           maxdiscount  0.017317\n",
       "11               tagrpg  0.016440\n",
       "89   taggreatsoundtrack  0.013538\n",
       "16        tagsimulation  0.011169\n",
       "15            tagcasual  0.010747"
      ]
     },
     "execution_count": 54,
     "metadata": {},
     "output_type": "execute_result"
    }
   ],
   "source": [
    "# drop all variables less than 0.02 feature importance\n",
    "x_filtered_df = features_df[features_df[1]>=0.01]\n",
    "x_filtered_df"
   ]
  },
  {
   "cell_type": "code",
   "execution_count": null,
   "id": "destroyed-graduation",
   "metadata": {},
   "outputs": [],
   "source": []
  }
 ],
 "metadata": {
  "kernelspec": {
   "display_name": "Python [conda env:pythondata] *",
   "language": "python",
   "name": "conda-env-pythondata-py"
  },
  "language_info": {
   "codemirror_mode": {
    "name": "ipython",
    "version": 3
   },
   "file_extension": ".py",
   "mimetype": "text/x-python",
   "name": "python",
   "nbconvert_exporter": "python",
   "pygments_lexer": "ipython3",
   "version": "3.6.10"
  }
 },
 "nbformat": 4,
 "nbformat_minor": 5
}
