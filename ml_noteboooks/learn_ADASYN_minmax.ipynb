{
 "cells": [
  {
   "cell_type": "code",
   "execution_count": 1,
   "id": "nasty-pierre",
   "metadata": {},
   "outputs": [],
   "source": [
    "# approach is from this website: \n",
    "# https://www.pluralsight.com/guides/explore-python-libraries:-imbalanced-learn\n",
    "# ADASYN takes ideas from SMOTE and builds on them. In particular, ADASYN selects \n",
    "# minority samples S so that “more difficult to classify” minority samples are \n",
    "# more likely to be selected. This allows the classifier to have more opportunity \n",
    "# to learn tough instances. The code for ADASYN is entirely analogous to that of \n",
    "# SMOTE, except you just replace the word “SMOTE” with “ADASYN”."
   ]
  },
  {
   "cell_type": "code",
   "execution_count": 2,
   "id": "desirable-asset",
   "metadata": {},
   "outputs": [],
   "source": [
    "# load necessary python libraries\n",
    "import numpy as np\n",
    "import pandas as pd\n",
    "import matplotlib.pyplot as plt\n",
    "import os"
   ]
  },
  {
   "cell_type": "code",
   "execution_count": 3,
   "id": "spread-loading",
   "metadata": {},
   "outputs": [
    {
     "data": {
      "text/plain": [
       "'C:\\\\Users\\\\wavau\\\\OneDrive\\\\desktop\\\\class_sessions\\\\home_steam_ml\\\\steam_ml_data\\\\ml_noteboooks'"
      ]
     },
     "execution_count": 3,
     "metadata": {},
     "output_type": "execute_result"
    }
   ],
   "source": [
    "# os.getcwd()"
   ]
  },
  {
   "cell_type": "code",
   "execution_count": 4,
   "id": "angry-incidence",
   "metadata": {
    "scrolled": true
   },
   "outputs": [
    {
     "data": {
      "text/plain": [
       "['.ipynb_checkpoints',\n",
       " 'learn_ADASYN_minmax.ipynb',\n",
       " 'learn_ADASYN_no_scaling.ipynb',\n",
       " 'learn_bal_random_forest_minmax.ipynb',\n",
       " 'learn_bal_random_forest_no_scaling.ipynb',\n",
       " 'learn_down_sample_majority_class_minmax.ipynb',\n",
       " 'learn_down_sample_majority_class_no_scaling.ipynb',\n",
       " 'learn_no_sample_adj_minmax.ipynb',\n",
       " 'learn_no_sample_adj_noscaling.ipynb',\n",
       " 'learn_SMOTE_1_minmax.ipynb',\n",
       " 'learn_SMOTE_1_noscale.ipynb',\n",
       " 'learn_up-sample_minority_min_max.ipynb',\n",
       " 'learn_up-sample_minority_no_scaling.ipynb']"
      ]
     },
     "execution_count": 4,
     "metadata": {},
     "output_type": "execute_result"
    }
   ],
   "source": [
    "# os.listdir(os.getcwd())"
   ]
  },
  {
   "cell_type": "code",
   "execution_count": 6,
   "id": "fleet-tournament",
   "metadata": {},
   "outputs": [
    {
     "data": {
      "text/plain": [
       "(39624, 351)"
      ]
     },
     "execution_count": 6,
     "metadata": {},
     "output_type": "execute_result"
    }
   ],
   "source": [
    "# read the csv x_data file into Pandas \n",
    "\n",
    "all_param_df = pd.read_csv(\"..\\\\reduced_data\\\\all_param.csv\")\n",
    "all_param_df.shape\n"
   ]
  },
  {
   "cell_type": "code",
   "execution_count": 7,
   "id": "standing-norman",
   "metadata": {},
   "outputs": [],
   "source": [
    "# using binary classification for logistic regression\n",
    "y_class = all_param_df['suc_class']"
   ]
  },
  {
   "cell_type": "code",
   "execution_count": 8,
   "id": "official-dream",
   "metadata": {},
   "outputs": [
    {
     "data": {
      "text/plain": [
       "0        0\n",
       "1        0\n",
       "2        0\n",
       "3        0\n",
       "4        0\n",
       "        ..\n",
       "39619    1\n",
       "39620    1\n",
       "39621    1\n",
       "39622    1\n",
       "39623    1\n",
       "Name: suc_class, Length: 39624, dtype: int64"
      ]
     },
     "execution_count": 8,
     "metadata": {},
     "output_type": "execute_result"
    }
   ],
   "source": [
    "y_class"
   ]
  },
  {
   "cell_type": "code",
   "execution_count": 9,
   "id": "administrative-aviation",
   "metadata": {},
   "outputs": [],
   "source": [
    "# create new X parameters df\n",
    "x_data = all_param_df.drop(['appid','maxccu','success_class','suc_class','followers']  , axis=1)"
   ]
  },
  {
   "cell_type": "code",
   "execution_count": 10,
   "id": "handy-biography",
   "metadata": {
    "scrolled": true
   },
   "outputs": [
    {
     "data": {
      "text/plain": [
       "(39624, 346)"
      ]
     },
     "execution_count": 10,
     "metadata": {},
     "output_type": "execute_result"
    }
   ],
   "source": [
    "x_data.shape"
   ]
  },
  {
   "cell_type": "code",
   "execution_count": 11,
   "id": "psychological-toronto",
   "metadata": {},
   "outputs": [],
   "source": [
    "# ADASYN selects \"more difficult to classify\" minority samples for better training the classifier\n",
    "\n",
    "from imblearn.over_sampling import ADASYN\n",
    "\n",
    "X_adasyn, y_adasyn = ADASYN().fit_sample(x_data, y_class)"
   ]
  },
  {
   "cell_type": "code",
   "execution_count": 12,
   "id": "competitive-obligation",
   "metadata": {},
   "outputs": [
    {
     "data": {
      "text/plain": [
       "0    38818\n",
       "1    38761\n",
       "Name: suc_class, dtype: int64"
      ]
     },
     "execution_count": 12,
     "metadata": {},
     "output_type": "execute_result"
    }
   ],
   "source": [
    "# see classes are balanced\n",
    "X_adasyn = pd.DataFrame(X_adasyn)\n",
    "y_adasyn = pd.DataFrame(y_adasyn)\n",
    "y_adasyn.iloc[:, 0].value_counts()"
   ]
  },
  {
   "cell_type": "code",
   "execution_count": 13,
   "id": "continent-asbestos",
   "metadata": {},
   "outputs": [],
   "source": [
    "# define training and test data\n",
    "from sklearn.model_selection import train_test_split\n",
    "X_train, X_test, y_train, y_test = train_test_split(X_adasyn, y_adasyn, random_state=5)"
   ]
  },
  {
   "cell_type": "code",
   "execution_count": 14,
   "id": "satisfactory-james",
   "metadata": {},
   "outputs": [],
   "source": [
    "import numpy as np\n",
    "\n",
    "X_train = np.array(X_train)\n",
    "X_test = np.array(X_test)\n",
    "y_train = np.array(y_train)\n",
    "y_test = np.array(y_test)"
   ]
  },
  {
   "cell_type": "code",
   "execution_count": null,
   "id": "massive-thomas",
   "metadata": {},
   "outputs": [],
   "source": []
  },
  {
   "cell_type": "code",
   "execution_count": 15,
   "id": "loose-florida",
   "metadata": {},
   "outputs": [],
   "source": [
    "# baseline example\n",
    "from sklearn.linear_model import LogisticRegression\n",
    "from sklearn.metrics import accuracy_score"
   ]
  },
  {
   "cell_type": "code",
   "execution_count": 16,
   "id": "outer-cholesterol",
   "metadata": {},
   "outputs": [],
   "source": [
    "# Pre-processing  - scale the data using the MinMaxScaler and perform some feature selection\n",
    "\n",
    "from sklearn.preprocessing import MinMaxScaler\n",
    "x_scaler = MinMaxScaler().fit(X_train)"
   ]
  },
  {
   "cell_type": "code",
   "execution_count": 17,
   "id": "retired-flesh",
   "metadata": {},
   "outputs": [],
   "source": [
    "# apply the trained scales (MinMax) to the training and testing data\n",
    "\n",
    "X_train_scaled = x_scaler.transform(X_train)\n",
    "X_test_scaled = x_scaler.transform(X_test)"
   ]
  },
  {
   "cell_type": "code",
   "execution_count": 18,
   "id": "stone-merchandise",
   "metadata": {},
   "outputs": [
    {
     "name": "stderr",
     "output_type": "stream",
     "text": [
      "C:\\Users\\wavau\\anaconda3\\envs\\pythondata\\lib\\site-packages\\sklearn\\utils\\validation.py:63: DataConversionWarning: A column-vector y was passed when a 1d array was expected. Please change the shape of y to (n_samples, ), for example using ravel().\n",
      "  return f(*args, **kwargs)\n"
     ]
    }
   ],
   "source": [
    "# Instantiate and Train model\n",
    "y = y_train\n",
    "X = X_train_scaled\n",
    "\n",
    "clf_1 = LogisticRegression(max_iter=1000).fit(X, y)"
   ]
  },
  {
   "cell_type": "code",
   "execution_count": 19,
   "id": "bacterial-pierce",
   "metadata": {},
   "outputs": [
    {
     "name": "stdout",
     "output_type": "stream",
     "text": [
      "Training Data Score: 0.7929327650213117\n",
      "Testing Data Score: 0.7930394431554524\n"
     ]
    }
   ],
   "source": [
    "# Apply fitted model to test data - what accuracy?\n",
    "print(f\"Training Data Score: {clf_1.score(X, y)}\")\n",
    "print(f\"Testing Data Score: {clf_1.score(X_test_scaled, y_test)}\")"
   ]
  },
  {
   "cell_type": "code",
   "execution_count": 20,
   "id": "ahead-carolina",
   "metadata": {},
   "outputs": [
    {
     "name": "stdout",
     "output_type": "stream",
     "text": [
      "              precision    recall  f1-score   support\n",
      "\n",
      "           0       0.73      0.93      0.82      9754\n",
      "           1       0.90      0.65      0.76      9641\n",
      "\n",
      "    accuracy                           0.79     19395\n",
      "   macro avg       0.82      0.79      0.79     19395\n",
      "weighted avg       0.82      0.79      0.79     19395\n",
      "\n"
     ]
    }
   ],
   "source": [
    "# Understand precision, recall, f1 score with classification report for logistic classification\n",
    "from sklearn.metrics import classification_report\n",
    "predictions = clf_1.predict(X_test_scaled)\n",
    "print(classification_report(y_test,predictions))"
   ]
  },
  {
   "cell_type": "code",
   "execution_count": 21,
   "id": "received-transformation",
   "metadata": {},
   "outputs": [],
   "source": [
    "# thinking about baseline results:\n",
    "# Support is balanced - ~9700 of 1's and 0's\n",
    "# Percision: for no success: 73%, better for successful games: 90%\n",
    "# Percision= % of labeling an outcome that is correct from all the labels of that outcome\n",
    "# labeled cancer correctly from all labeled cancer\n",
    "# Recall: Fraction of positives found, 93% for 0, 65% for 1\n",
    "# Recall - % of true label found from all true cases of the label\n",
    "# how many of the cancer cases did you find\n",
    "# f1 score: 79% due to overfitting on failure cases"
   ]
  },
  {
   "cell_type": "code",
   "execution_count": 22,
   "id": "living-effects",
   "metadata": {},
   "outputs": [
    {
     "data": {
      "text/plain": [
       "<AxesSubplot:>"
      ]
     },
     "execution_count": 22,
     "metadata": {},
     "output_type": "execute_result"
    },
    {
     "data": {
      "image/png": "[encoded data removed]",
      "text/plain": [
       "<Figure size 432x288 with 2 Axes>"
      ]
     },
     "metadata": {
      "needs_background": "light"
     },
     "output_type": "display_data"
    }
   ],
   "source": [
    "from sklearn.metrics import confusion_matrix\n",
    "import seaborn as sns\n",
    "\n",
    "y_pred = clf_1.predict(X_test_scaled)\n",
    "cm2 = confusion_matrix(y_test, y_pred.round())\n",
    "sns.heatmap(cm2, annot=True, fmt=\".0f\")"
   ]
  },
  {
   "cell_type": "code",
   "execution_count": null,
   "id": "wanted-azerbaijan",
   "metadata": {},
   "outputs": [],
   "source": []
  },
  {
   "cell_type": "code",
   "execution_count": null,
   "id": "interstate-light",
   "metadata": {},
   "outputs": [],
   "source": []
  }
 ],
 "metadata": {
  "kernelspec": {
   "display_name": "Python [conda env:pythondata] *",
   "language": "python",
   "name": "conda-env-pythondata-py"
  },
  "language_info": {
   "codemirror_mode": {
    "name": "ipython",
    "version": 3
   },
   "file_extension": ".py",
   "mimetype": "text/x-python",
   "name": "python",
   "nbconvert_exporter": "python",
   "pygments_lexer": "ipython3",
   "version": "3.6.10"
  }
 },
 "nbformat": 4,
 "nbformat_minor": 5
}
