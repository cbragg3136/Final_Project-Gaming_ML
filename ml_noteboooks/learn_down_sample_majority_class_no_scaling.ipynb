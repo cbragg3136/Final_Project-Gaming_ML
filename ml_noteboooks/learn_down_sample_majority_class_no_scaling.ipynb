{
 "cells": [
  {
   "cell_type": "code",
   "execution_count": 2,
   "id": "nasty-pierre",
   "metadata": {},
   "outputs": [],
   "source": [
    "# Down-sampling involves randomly removing observations from the majority class \n",
    "# to prevent its signal from dominating the learning algorithm.\n",
    "# Most common method is resampling without replacement\n",
    "\n",
    "# - First, we'll separate observations from each class into different DataFrames.\n",
    "# - Next, we'll resample the majority class without replacement, setting the number \n",
    "# of samples to match that of the minority class.\n",
    "# - Finally, we'll combine the down-sampled majority class DataFrame with \n",
    "# the original minority class DataFrame."
   ]
  },
  {
   "cell_type": "code",
   "execution_count": 3,
   "id": "desirable-asset",
   "metadata": {},
   "outputs": [],
   "source": [
    "# load necessary python libraries\n",
    "import numpy as np\n",
    "import pandas as pd\n",
    "import matplotlib.pyplot as plt\n",
    "import os"
   ]
  },
  {
   "cell_type": "code",
   "execution_count": 4,
   "id": "conservative-yellow",
   "metadata": {},
   "outputs": [],
   "source": [
    "# module for resampling\n",
    "from sklearn.utils import resample"
   ]
  },
  {
   "cell_type": "code",
   "execution_count": 5,
   "id": "spread-loading",
   "metadata": {},
   "outputs": [],
   "source": [
    "# os.getcwd()"
   ]
  },
  {
   "cell_type": "code",
   "execution_count": 6,
   "id": "angry-incidence",
   "metadata": {
    "scrolled": true
   },
   "outputs": [],
   "source": [
    "# os.listdir(os.getcwd())"
   ]
  },
  {
   "cell_type": "code",
   "execution_count": 7,
   "id": "fleet-tournament",
   "metadata": {},
   "outputs": [
    {
     "data": {
      "text/plain": [
       "(39624, 351)"
      ]
     },
     "execution_count": 7,
     "metadata": {},
     "output_type": "execute_result"
    }
   ],
   "source": [
    "# read the csv x_data file into Pandas \n",
    "\n",
    "all_param_df = pd.read_csv(\"..\\\\reduced_data\\\\all_param.csv\")\n",
    "all_param_df.shape\n"
   ]
  },
  {
   "cell_type": "code",
   "execution_count": 15,
   "id": "according-restriction",
   "metadata": {},
   "outputs": [],
   "source": [
    "# separate classes in dataframes of success/failure\n",
    "df_fail = all_param_df[all_param_df.suc_class==0]\n",
    "df_succ = all_param_df[all_param_df.suc_class==1]"
   ]
  },
  {
   "cell_type": "code",
   "execution_count": 16,
   "id": "renewable-surrey",
   "metadata": {},
   "outputs": [
    {
     "data": {
      "text/plain": [
       "(38818, 351)"
      ]
     },
     "execution_count": 16,
     "metadata": {},
     "output_type": "execute_result"
    }
   ],
   "source": [
    "df_fail.shape"
   ]
  },
  {
   "cell_type": "code",
   "execution_count": 17,
   "id": "ruled-stage",
   "metadata": {},
   "outputs": [
    {
     "data": {
      "text/plain": [
       "(806, 351)"
      ]
     },
     "execution_count": 17,
     "metadata": {},
     "output_type": "execute_result"
    }
   ],
   "source": [
    "df_succ.shape"
   ]
  },
  {
   "cell_type": "code",
   "execution_count": 21,
   "id": "historical-possible",
   "metadata": {},
   "outputs": [
    {
     "data": {
      "text/plain": [
       "0    1000\n",
       "1     806\n",
       "Name: suc_class, dtype: int64"
      ]
     },
     "execution_count": 21,
     "metadata": {},
     "output_type": "execute_result"
    }
   ],
   "source": [
    "# Downsample Majority class\n",
    "df_fail_downsample = resample(df_fail, replace=False, n_samples=1000, random_state=2)\n",
    "\n",
    "# combine success with downsampled majority class into new dataframe\n",
    "df_downsampled = pd.concat([df_fail_downsample, df_succ])\n",
    "\n",
    "# display new class counts\n",
    "df_downsampled.suc_class.value_counts()"
   ]
  },
  {
   "cell_type": "code",
   "execution_count": 22,
   "id": "foreign-courtesy",
   "metadata": {},
   "outputs": [],
   "source": [
    "# # reindex the new upsampled dataframe\n",
    "# df_upsampled.reindex()"
   ]
  },
  {
   "cell_type": "code",
   "execution_count": 23,
   "id": "hybrid-education",
   "metadata": {},
   "outputs": [],
   "source": [
    "# df_upsampled"
   ]
  },
  {
   "cell_type": "code",
   "execution_count": 24,
   "id": "intermediate-decrease",
   "metadata": {},
   "outputs": [],
   "source": [
    "# # read the csv y_data file into Pandas \n",
    "# y_parm_df = pd.read_csv(\"reduced_data\\\\y_params.csv\")\n",
    "# y_parm_df.shape"
   ]
  },
  {
   "cell_type": "code",
   "execution_count": 25,
   "id": "standing-norman",
   "metadata": {},
   "outputs": [],
   "source": [
    "# using binary classification for logistic regression\n",
    "y_class = df_downsampled['suc_class']"
   ]
  },
  {
   "cell_type": "code",
   "execution_count": 26,
   "id": "official-dream",
   "metadata": {},
   "outputs": [
    {
     "data": {
      "text/plain": [
       "13716    0\n",
       "4622     0\n",
       "1350     0\n",
       "30223    0\n",
       "23274    0\n",
       "        ..\n",
       "39619    1\n",
       "39620    1\n",
       "39621    1\n",
       "39622    1\n",
       "39623    1\n",
       "Name: suc_class, Length: 1806, dtype: int64"
      ]
     },
     "execution_count": 26,
     "metadata": {},
     "output_type": "execute_result"
    }
   ],
   "source": [
    "y_class"
   ]
  },
  {
   "cell_type": "code",
   "execution_count": 27,
   "id": "hybrid-phrase",
   "metadata": {},
   "outputs": [],
   "source": [
    "# create new X parameters df\n",
    "x_data = df_downsampled.drop(['appid','maxccu','success_class','suc_class','followers']  , axis=1)"
   ]
  },
  {
   "cell_type": "code",
   "execution_count": 36,
   "id": "yellow-thanks",
   "metadata": {},
   "outputs": [
    {
     "data": {
      "text/plain": [
       "(1806, 346)"
      ]
     },
     "execution_count": 36,
     "metadata": {},
     "output_type": "execute_result"
    }
   ],
   "source": [
    "x_data.shape\n"
   ]
  },
  {
   "cell_type": "code",
   "execution_count": 40,
   "id": "moral-peninsula",
   "metadata": {},
   "outputs": [],
   "source": [
    "# define training and test data\n",
    "from sklearn.model_selection import train_test_split\n",
    "X_train, X_test, y_train, y_test = train_test_split(x_data, y_class, random_state=5)"
   ]
  },
  {
   "cell_type": "code",
   "execution_count": 41,
   "id": "loose-florida",
   "metadata": {},
   "outputs": [],
   "source": [
    "# baseline example\n",
    "from sklearn.linear_model import LogisticRegression\n",
    "from sklearn.metrics import accuracy_score"
   ]
  },
  {
   "cell_type": "code",
   "execution_count": 43,
   "id": "stone-merchandise",
   "metadata": {},
   "outputs": [
    {
     "name": "stderr",
     "output_type": "stream",
     "text": [
      "C:\\Users\\wavau\\anaconda3\\envs\\pythondata\\lib\\site-packages\\sklearn\\linear_model\\_logistic.py:765: ConvergenceWarning: lbfgs failed to converge (status=1):\n",
      "STOP: TOTAL NO. of ITERATIONS REACHED LIMIT.\n",
      "\n",
      "Increase the number of iterations (max_iter) or scale the data as shown in:\n",
      "    https://scikit-learn.org/stable/modules/preprocessing.html\n",
      "Please also refer to the documentation for alternative solver options:\n",
      "    https://scikit-learn.org/stable/modules/linear_model.html#logistic-regression\n",
      "  extra_warning_msg=_LOGISTIC_SOLVER_CONVERGENCE_MSG)\n"
     ]
    }
   ],
   "source": [
    "# Train model\n",
    "y = y_train\n",
    "X = X_train\n",
    "\n",
    "clf_2 = LogisticRegression(max_iter=1000).fit(X, y)"
   ]
  },
  {
   "cell_type": "code",
   "execution_count": 44,
   "id": "visible-offer",
   "metadata": {},
   "outputs": [
    {
     "name": "stdout",
     "output_type": "stream",
     "text": [
      "Training Data Score: 0.8751846381093058\n",
      "Testing Data Score: 0.8805309734513275\n"
     ]
    }
   ],
   "source": [
    "# Apply fitted model to test data - what accuracy?\n",
    "print(f\"Training Data Score: {clf_1.score(X_train, y_train)}\")\n",
    "print(f\"Testing Data Score: {clf_1.score(X_test, y_test)}\")"
   ]
  },
  {
   "cell_type": "code",
   "execution_count": 45,
   "id": "attempted-mining",
   "metadata": {},
   "outputs": [
    {
     "name": "stdout",
     "output_type": "stream",
     "text": [
      "              precision    recall  f1-score   support\n",
      "\n",
      "           0       0.89      0.89      0.89       248\n",
      "           1       0.87      0.87      0.87       204\n",
      "\n",
      "    accuracy                           0.88       452\n",
      "   macro avg       0.88      0.88      0.88       452\n",
      "weighted avg       0.88      0.88      0.88       452\n",
      "\n"
     ]
    }
   ],
   "source": [
    "# Understand precision, recall, f1 score with classification report for logistic classification\n",
    "from sklearn.metrics import classification_report\n",
    "predictions = clf_1.predict(X_test)\n",
    "print(classification_report(y_test,predictions))"
   ]
  },
  {
   "cell_type": "code",
   "execution_count": null,
   "id": "rolled-airport",
   "metadata": {},
   "outputs": [],
   "source": [
    "# thinking about baseline results:\n",
    "# Support is balanced due to sampling adjustments\n",
    "# Percision: for no success: 89%, for successful games: 87%\n",
    "# Recall: Fraction of positives found, 89% for 0, 87% for 1\n",
    "# f1 score: 88%"
   ]
  },
  {
   "cell_type": "code",
   "execution_count": null,
   "id": "worthy-assessment",
   "metadata": {},
   "outputs": [],
   "source": []
  }
 ],
 "metadata": {
  "kernelspec": {
   "display_name": "Python [conda env:pythondata] *",
   "language": "python",
   "name": "conda-env-pythondata-py"
  },
  "language_info": {
   "codemirror_mode": {
    "name": "ipython",
    "version": 3
   },
   "file_extension": ".py",
   "mimetype": "text/x-python",
   "name": "python",
   "nbconvert_exporter": "python",
   "pygments_lexer": "ipython3",
   "version": "3.6.10"
  }
 },
 "nbformat": 4,
 "nbformat_minor": 5
}
